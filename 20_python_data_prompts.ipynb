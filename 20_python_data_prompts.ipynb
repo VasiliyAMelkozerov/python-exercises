{
 "cells": [
  {
   "cell_type": "markdown",
   "id": "1e08f024",
   "metadata": {},
   "source": [
    "# 20 Python Data Structure Manipulation Exercises"
   ]
  },
  {
   "cell_type": "code",
   "execution_count": 1,
   "id": "36022d8f",
   "metadata": {},
   "outputs": [],
   "source": [
    "import itertools"
   ]
  },
  {
   "cell_type": "code",
   "execution_count": 2,
   "id": "53da0fb5",
   "metadata": {},
   "outputs": [],
   "source": [
    "students = [\n",
    "    {\n",
    "        \"id\": \"100001\",\n",
    "        \"student\": \"Ada Lovelace\",\n",
    "        \"coffee_preference\": \"light\",\n",
    "        \"course\": \"web development\",\n",
    "        \"grades\": [70, 91, 82, 71],\n",
    "        \"pets\": [{\"species\": \"horse\", \"age\": 8}],\n",
    "    },\n",
    "    {\n",
    "        \"id\": \"100002\",\n",
    "        \"student\": \"Thomas Bayes\",\n",
    "        \"coffee_preference\": \"medium\",\n",
    "        \"course\": \"data science\",\n",
    "        \"grades\": [75, 73, 86, 100],\n",
    "        \"pets\": [],\n",
    "    },\n",
    "    {\n",
    "        \"id\": \"100003\",\n",
    "        \"student\": \"Marie Curie\",\n",
    "        \"coffee_preference\": \"light\",\n",
    "        \"course\": \"web development\",\n",
    "        \"grades\": [70, 89, 69, 65],\n",
    "        \"pets\": [{\"species\": \"cat\", \"age\": 0}],\n",
    "    },\n",
    "    {\n",
    "        \"id\": \"100004\",\n",
    "        \"student\": \"Grace Hopper\",\n",
    "        \"coffee_preference\": \"dark\",\n",
    "        \"course\": \"data science\",\n",
    "        \"grades\": [73, 66, 83, 92],\n",
    "        \"pets\": [{\"species\": \"dog\", \"age\": 4}, {\"species\": \"cat\", \"age\": 4}],\n",
    "    },\n",
    "    {\n",
    "        \"id\": \"100005\",\n",
    "        \"student\": \"Alan Turing\",\n",
    "        \"coffee_preference\": \"dark\",\n",
    "        \"course\": \"web development\",\n",
    "        \"grades\": [78, 98, 85, 65],\n",
    "        \"pets\": [\n",
    "            {\"species\": \"horse\", \"age\": 6},\n",
    "            {\"species\": \"horse\", \"age\": 7},\n",
    "            {\"species\": \"dog\", \"age\": 5},\n",
    "        ],\n",
    "    },\n",
    "    {\n",
    "        \"id\": \"100006\",\n",
    "        \"student\": \"Rosalind Franklin\",\n",
    "        \"coffee_preference\": \"dark\",\n",
    "        \"course\": \"data science\",\n",
    "        \"grades\": [76, 70, 96, 81],\n",
    "        \"pets\": [],\n",
    "    },\n",
    "    {\n",
    "        \"id\": \"100007\",\n",
    "        \"student\": \"Elizabeth Blackwell\",\n",
    "        \"coffee_preference\": \"dark\",\n",
    "        \"course\": \"web development\",\n",
    "        \"grades\": [69, 94, 89, 86],\n",
    "        \"pets\": [{\"species\": \"cat\", \"age\": 10}],\n",
    "    },\n",
    "    {\n",
    "        \"id\": \"100008\",\n",
    "        \"student\": \"Rene Descartes\",\n",
    "        \"coffee_preference\": \"medium\",\n",
    "        \"course\": \"data science\",\n",
    "        \"grades\": [87, 79, 90, 99],\n",
    "        \"pets\": [{\"species\": \"cat\", \"age\": 10}, {\"species\": \"cat\", \"age\": 8}],\n",
    "    },\n",
    "    {\n",
    "        \"id\": \"100009\",\n",
    "        \"student\": \"Ahmed Zewail\",\n",
    "        \"coffee_preference\": \"medium\",\n",
    "        \"course\": \"data science\",\n",
    "        \"grades\": [74, 99, 93, 89],\n",
    "        \"pets\": [{\"species\": \"cat\", \"age\": 0}, {\"species\": \"cat\", \"age\": 0}],\n",
    "    },\n",
    "    {\n",
    "        \"id\": \"100010\",\n",
    "        \"student\": \"Chien-Shiung Wu\",\n",
    "        \"coffee_preference\": \"medium\",\n",
    "        \"course\": \"web development\",\n",
    "        \"grades\": [82, 92, 91, 65],\n",
    "        \"pets\": [{\"species\": \"cat\", \"age\": 8}],\n",
    "    },\n",
    "    {\n",
    "        \"id\": \"100011\",\n",
    "        \"student\": \"William Sanford Nye\",\n",
    "        \"coffee_preference\": \"dark\",\n",
    "        \"course\": \"data science\",\n",
    "        \"grades\": [70, 92, 65, 99],\n",
    "        \"pets\": [{\"species\": \"cat\", \"age\": 8}, {\"species\": \"cat\", \"age\": 5}],\n",
    "    },\n",
    "    {\n",
    "        \"id\": \"100012\",\n",
    "        \"student\": \"Carl Sagan\",\n",
    "        \"coffee_preference\": \"medium\",\n",
    "        \"course\": \"data science\",\n",
    "        \"grades\": [100, 86, 91, 87],\n",
    "        \"pets\": [{\"species\": \"cat\", \"age\": 10}],\n",
    "    },\n",
    "    {\n",
    "        \"id\": \"100013\",\n",
    "        \"student\": \"Jane Goodall\",\n",
    "        \"coffee_preference\": \"light\",\n",
    "        \"course\": \"web development\",\n",
    "        \"grades\": [80, 70, 68, 98],\n",
    "        \"pets\": [{\"species\": \"horse\", \"age\": 4}],\n",
    "    },\n",
    "    {\n",
    "        \"id\": \"100014\",\n",
    "        \"student\": \"Richard Feynman\",\n",
    "        \"coffee_preference\": \"medium\",\n",
    "        \"course\": \"web development\",\n",
    "        \"grades\": [73, 99, 86, 98],\n",
    "        \"pets\": [{\"species\": \"dog\", \"age\": 6}],\n",
    "    },\n",
    "]"
   ]
  },
  {
   "cell_type": "markdown",
   "id": "b4fc8593",
   "metadata": {},
   "source": [
    "### 1.How many students are there?"
   ]
  },
  {
   "cell_type": "code",
   "execution_count": 3,
   "id": "a1c9938e",
   "metadata": {},
   "outputs": [
    {
     "data": {
      "text/plain": [
       "{'id': '100001',\n",
       " 'student': 'Ada Lovelace',\n",
       " 'coffee_preference': 'light',\n",
       " 'course': 'web development',\n",
       " 'grades': [70, 91, 82, 71],\n",
       " 'pets': [{'species': 'horse', 'age': 8}]}"
      ]
     },
     "execution_count": 3,
     "metadata": {},
     "output_type": "execute_result"
    }
   ],
   "source": [
    "student = students[0]\n",
    "student"
   ]
  },
  {
   "cell_type": "code",
   "execution_count": 4,
   "id": "fc0f6fee",
   "metadata": {},
   "outputs": [
    {
     "name": "stdout",
     "output_type": "stream",
     "text": [
      "We have 14 students in total\n"
     ]
    }
   ],
   "source": [
    "number = len(students)\n",
    "print(f\"We have {number} students in total\")"
   ]
  },
  {
   "cell_type": "markdown",
   "id": "35d5a6ec",
   "metadata": {},
   "source": [
    "### 2.How many students prefer light coffee? For each type of coffee roast?"
   ]
  },
  {
   "cell_type": "code",
   "execution_count": 5,
   "id": "e79fbd93",
   "metadata": {},
   "outputs": [
    {
     "data": {
      "text/plain": [
       "'light'"
      ]
     },
     "execution_count": 5,
     "metadata": {},
     "output_type": "execute_result"
    }
   ],
   "source": [
    "student['coffee_preference']"
   ]
  },
  {
   "cell_type": "code",
   "execution_count": 6,
   "id": "2c0d66b3",
   "metadata": {},
   "outputs": [
    {
     "name": "stdout",
     "output_type": "stream",
     "text": [
      "3 is how many like light coffee. 6 for medium. 5 for dark\n"
     ]
    }
   ],
   "source": [
    "light_cof = 0\n",
    "med_cof = 0\n",
    "dark_cof = 0\n",
    "\n",
    "for student in students:\n",
    "    preference = student[\"coffee_preference\"]\n",
    "    if preference == \"light\":\n",
    "        light_cof+=1\n",
    "    if preference == \"medium\":\n",
    "        med_cof+=1\n",
    "    if preference == \"dark\":\n",
    "        dark_cof +=1\n",
    "    \n",
    "light_cof\n",
    "med_cof\n",
    "dark_cof\n",
    "print(f\"{light_cof} is how many like light coffee. {med_cof} for medium. {dark_cof} for dark\")"
   ]
  },
  {
   "cell_type": "markdown",
   "id": "0928fb41",
   "metadata": {},
   "source": [
    "### 3.How many types of each pet are there?"
   ]
  },
  {
   "cell_type": "code",
   "execution_count": 7,
   "id": "880ba2cd",
   "metadata": {},
   "outputs": [
    {
     "data": {
      "text/plain": [
       "[]"
      ]
     },
     "execution_count": 7,
     "metadata": {},
     "output_type": "execute_result"
    }
   ],
   "source": [
    "#if we don't know where to start, make a variable\n",
    "pets = [] \n",
    "\n",
    "#for student in students:\n",
    "student=students[1]\n",
    "for pet in student['pets']:\n",
    "    pets.append(pet[\"species\"])\n",
    "    \n",
    "pets"
   ]
  },
  {
   "cell_type": "code",
   "execution_count": 8,
   "id": "accd95ef",
   "metadata": {},
   "outputs": [
    {
     "data": {
      "text/plain": [
       "['horse',\n",
       " 'cat',\n",
       " 'dog',\n",
       " 'cat',\n",
       " 'horse',\n",
       " 'horse',\n",
       " 'dog',\n",
       " 'cat',\n",
       " 'cat',\n",
       " 'cat',\n",
       " 'cat',\n",
       " 'cat',\n",
       " 'cat',\n",
       " 'cat',\n",
       " 'cat',\n",
       " 'cat',\n",
       " 'horse',\n",
       " 'dog']"
      ]
     },
     "execution_count": 8,
     "metadata": {},
     "output_type": "execute_result"
    }
   ],
   "source": [
    "for student in students:\n",
    "#student=students[1]\n",
    "    for pet in student['pets']:\n",
    "        pets.append(pet[\"species\"])\n",
    "    \n",
    "pets"
   ]
  },
  {
   "cell_type": "code",
   "execution_count": 9,
   "id": "9ba555ae",
   "metadata": {},
   "outputs": [
    {
     "data": {
      "text/plain": [
       "{'horse': 4, 'cat': 11, 'dog': 3}"
      ]
     },
     "execution_count": 9,
     "metadata": {},
     "output_type": "execute_result"
    }
   ],
   "source": [
    "pet_typ_count = {}\n",
    "#how do you even think like this?\n",
    "for pet in pets:\n",
    "    #what\n",
    "    if pet in pet_typ_count.keys():\n",
    "        #in the\n",
    "        pet_typ_count[pet] += 1\n",
    "        #absolute\n",
    "    else:\n",
    "        #wizardry\n",
    "        pet_typ_count[pet] = 1\n",
    "    #is this\n",
    "pet_typ_count"
   ]
  },
  {
   "cell_type": "markdown",
   "id": "91be7ac0",
   "metadata": {},
   "source": [
    "###  4.How many grades does each student have? Do they all have the same number of grades?"
   ]
  },
  {
   "cell_type": "code",
   "execution_count": 10,
   "id": "43289e0f",
   "metadata": {},
   "outputs": [
    {
     "data": {
      "text/plain": [
       "{'id': '100014',\n",
       " 'student': 'Richard Feynman',\n",
       " 'coffee_preference': 'medium',\n",
       " 'course': 'web development',\n",
       " 'grades': [73, 99, 86, 98],\n",
       " 'pets': [{'species': 'dog', 'age': 6}]}"
      ]
     },
     "execution_count": 10,
     "metadata": {},
     "output_type": "execute_result"
    }
   ],
   "source": [
    "#these are not functions yet, these are done through using while and loop\n",
    "student"
   ]
  },
  {
   "cell_type": "code",
   "execution_count": 11,
   "id": "9db230d8",
   "metadata": {},
   "outputs": [
    {
     "data": {
      "text/plain": [
       "[73, 99, 86, 98]"
      ]
     },
     "execution_count": 11,
     "metadata": {},
     "output_type": "execute_result"
    }
   ],
   "source": [
    "student['grades']"
   ]
  },
  {
   "cell_type": "code",
   "execution_count": 12,
   "id": "6da54b39",
   "metadata": {},
   "outputs": [
    {
     "name": "stdout",
     "output_type": "stream",
     "text": [
      "73\n",
      "99\n",
      "86\n",
      "98\n"
     ]
    }
   ],
   "source": [
    "for grade in student['grades']:\n",
    "    print(grade)"
   ]
  },
  {
   "cell_type": "markdown",
   "id": "09056b17",
   "metadata": {},
   "source": [
    "#### Each student has 4 grades no one is > or <"
   ]
  },
  {
   "cell_type": "code",
   "execution_count": 13,
   "id": "c9fa0b39",
   "metadata": {},
   "outputs": [
    {
     "name": "stdout",
     "output_type": "stream",
     "text": [
      "70\n",
      "91\n",
      "82\n",
      "71\n",
      "75\n",
      "73\n",
      "86\n",
      "100\n",
      "70\n",
      "89\n",
      "69\n",
      "65\n",
      "73\n",
      "66\n",
      "83\n",
      "92\n",
      "78\n",
      "98\n",
      "85\n",
      "65\n",
      "76\n",
      "70\n",
      "96\n",
      "81\n",
      "69\n",
      "94\n",
      "89\n",
      "86\n",
      "87\n",
      "79\n",
      "90\n",
      "99\n",
      "74\n",
      "99\n",
      "93\n",
      "89\n",
      "82\n",
      "92\n",
      "91\n",
      "65\n",
      "70\n",
      "92\n",
      "65\n",
      "99\n",
      "100\n",
      "86\n",
      "91\n",
      "87\n",
      "80\n",
      "70\n",
      "68\n",
      "98\n",
      "73\n",
      "99\n",
      "86\n",
      "98\n"
     ]
    }
   ],
   "source": [
    "for student in students:\n",
    "    for grade in student['grades']:\n",
    "        print(grade)"
   ]
  },
  {
   "cell_type": "code",
   "execution_count": 14,
   "id": "f3f76fd0",
   "metadata": {},
   "outputs": [
    {
     "name": "stdout",
     "output_type": "stream",
     "text": [
      "[70, 91, 82, 71, 75, 73, 86, 100, 70, 89, 69, 65, 73, 66, 83, 92, 78, 98, 85, 65, 76, 70, 96, 81, 69, 94, 89, 86, 87, 79, 90, 99, 74, 99, 93, 89, 82, 92, 91, 65, 70, 92, 65, 99, 100, 86, 91, 87, 80, 70, 68, 98, 73, 99, 86, 98]\n"
     ]
    }
   ],
   "source": [
    "grades = []\n",
    "for student in students:\n",
    "    for grade in student['grades']:\n",
    "        grades.append(grade)\n",
    "print(grades)"
   ]
  },
  {
   "cell_type": "markdown",
   "id": "2f449419",
   "metadata": {},
   "source": [
    "#### the total number of grades"
   ]
  },
  {
   "cell_type": "code",
   "execution_count": 15,
   "id": "d5183b7c",
   "metadata": {},
   "outputs": [
    {
     "data": {
      "text/plain": [
       "56"
      ]
     },
     "execution_count": 15,
     "metadata": {},
     "output_type": "execute_result"
    }
   ],
   "source": [
    "x = len(grades)\n",
    "x"
   ]
  },
  {
   "cell_type": "markdown",
   "id": "00e795b3",
   "metadata": {},
   "source": [
    "### What is each student's grade average?"
   ]
  },
  {
   "cell_type": "code",
   "execution_count": 16,
   "id": "d98d8383",
   "metadata": {},
   "outputs": [
    {
     "data": {
      "text/plain": [
       "{'id': '100014',\n",
       " 'student': 'Richard Feynman',\n",
       " 'coffee_preference': 'medium',\n",
       " 'course': 'web development',\n",
       " 'grades': [73, 99, 86, 98],\n",
       " 'pets': [{'species': 'dog', 'age': 6}]}"
      ]
     },
     "execution_count": 16,
     "metadata": {},
     "output_type": "execute_result"
    }
   ],
   "source": [
    "student"
   ]
  },
  {
   "cell_type": "code",
   "execution_count": 17,
   "id": "26fcb52b",
   "metadata": {},
   "outputs": [
    {
     "data": {
      "text/plain": [
       "[73, 99, 86, 98]"
      ]
     },
     "execution_count": 17,
     "metadata": {},
     "output_type": "execute_result"
    }
   ],
   "source": [
    "student[\"grades\"]"
   ]
  },
  {
   "cell_type": "markdown",
   "id": "091a834c",
   "metadata": {},
   "source": [
    "kinda ended up skipping ahead in material in that this was suppoused to be done sooner"
   ]
  },
  {
   "cell_type": "code",
   "execution_count": 18,
   "id": "cbd15b59",
   "metadata": {},
   "outputs": [
    {
     "data": {
      "text/plain": [
       "[73, 172, 258, 356]"
      ]
     },
     "execution_count": 18,
     "metadata": {},
     "output_type": "execute_result"
    }
   ],
   "source": [
    "from itertools import accumulate as ac\n",
    "\n",
    "list(ac(student[\"grades\"]))\n",
    "\n",
    "#wrong idea\n",
    "#wait a minute we can turn this around"
   ]
  },
  {
   "cell_type": "code",
   "execution_count": 56,
   "id": "fcb128a8",
   "metadata": {},
   "outputs": [
    {
     "name": "stdout",
     "output_type": "stream",
     "text": [
      "[70, 91, 82, 71, 75, 73, 86, 100, 70, 89, 69, 65, 73, 66, 83, 92, 78, 98, 85, 65, 76, 70, 96, 81, 69, 94, 89, 86, 87, 79, 90, 99, 74, 99, 93, 89, 82, 92, 91, 65, 70, 92, 65, 99, 100, 86, 91, 87, 80, 70, 68, 98, 73, 99, 86, 98]\n",
      "This is psuedo code but I have the answer to all of the students: 82.92857142857143\n"
     ]
    }
   ],
   "source": [
    "grades = []\n",
    "for student in students:\n",
    "    for grade in student['grades']:\n",
    "        grades.append(grade)\n",
    "print(grades)\n",
    "list(ac(grades))\n",
    "# average is total divided by sum, total gradescore is 4644 from function\n",
    "# combining this with the total amount of grades and vuela\n",
    "print(\"This is psuedo code but I have the answer to all of the students:\",4644/56)"
   ]
  },
  {
   "cell_type": "code",
   "execution_count": 20,
   "id": "95514a96",
   "metadata": {},
   "outputs": [
    {
     "data": {
      "text/plain": [
       "82.92857142857143"
      ]
     },
     "execution_count": 20,
     "metadata": {},
     "output_type": "execute_result"
    }
   ],
   "source": [
    "#but we can take it one step further\n",
    "#i imagine we can create a something to provide us both\n",
    "avg_value = sum(grades) / len(grades)\n",
    "avg_value\n",
    "#accidentally got the answer for the last one\n",
    "# students.get(\"grades\")"
   ]
  },
  {
   "cell_type": "code",
   "execution_count": 27,
   "id": "fbe9a494",
   "metadata": {},
   "outputs": [
    {
     "data": {
      "text/plain": [
       "{'id': '100001',\n",
       " 'student': 'Ada Lovelace',\n",
       " 'coffee_preference': 'light',\n",
       " 'course': 'web development',\n",
       " 'grades': [70, 91, 82, 71],\n",
       " 'pets': [{'species': 'horse', 'age': 8}]}"
      ]
     },
     "execution_count": 27,
     "metadata": {},
     "output_type": "execute_result"
    }
   ],
   "source": [
    "student = students[0]\n",
    "student"
   ]
  },
  {
   "cell_type": "code",
   "execution_count": 33,
   "id": "62ef6c7b",
   "metadata": {},
   "outputs": [
    {
     "data": {
      "text/plain": [
       "'Ada Lovelace'"
      ]
     },
     "execution_count": 33,
     "metadata": {},
     "output_type": "execute_result"
    }
   ],
   "source": [
    "name = student[\"student\"]\n",
    "name"
   ]
  },
  {
   "cell_type": "code",
   "execution_count": 29,
   "id": "fd5207f8",
   "metadata": {},
   "outputs": [
    {
     "data": {
      "text/plain": [
       "[70, 91, 82, 71]"
      ]
     },
     "execution_count": 29,
     "metadata": {},
     "output_type": "execute_result"
    }
   ],
   "source": [
    "grades=student[\"grades\"]\n",
    "grades"
   ]
  },
  {
   "cell_type": "code",
   "execution_count": 31,
   "id": "acf97ec8",
   "metadata": {},
   "outputs": [
    {
     "data": {
      "text/plain": [
       "78.5"
      ]
     },
     "execution_count": 31,
     "metadata": {},
     "output_type": "execute_result"
    }
   ],
   "source": [
    "avg_valu = sum(grades) / len(grades)\n",
    "avg_valu"
   ]
  },
  {
   "cell_type": "code",
   "execution_count": 36,
   "id": "e2cb7dc0",
   "metadata": {},
   "outputs": [
    {
     "name": "stdout",
     "output_type": "stream",
     "text": [
      "Ada Lovelace's average grade is 78.5\n"
     ]
    }
   ],
   "source": [
    "print(f\"{name}\\'s average grade is {avg_valu}\")"
   ]
  },
  {
   "cell_type": "code",
   "execution_count": 65,
   "id": "9c452cec",
   "metadata": {},
   "outputs": [
    {
     "name": "stdout",
     "output_type": "stream",
     "text": [
      "Ada Lovelace's total average is 78.5\n",
      "Thomas Bayes's total average is 83.5\n",
      "Marie Curie's total average is 73.25\n",
      "Grace Hopper's total average is 78.5\n",
      "Alan Turing's total average is 81.5\n",
      "Rosalind Franklin's total average is 80.75\n",
      "Elizabeth Blackwell's total average is 84.5\n",
      "Rene Descartes's total average is 88.75\n",
      "Ahmed Zewail's total average is 88.75\n",
      "Chien-Shiung Wu's total average is 82.5\n",
      "William Sanford Nye's total average is 81.5\n",
      "Carl Sagan's total average is 91.0\n",
      "Jane Goodall's total average is 79.0\n",
      "Richard Feynman's total average is 89.0\n"
     ]
    }
   ],
   "source": [
    "list1=0\n",
    "for student in students:\n",
    "    name = student['student']\n",
    "    for grade in student['grades']:\n",
    "        list1=sum(student['grades']) / len(student['grades'])\n",
    "    print(f'{name}\\'s total average is {list1}')"
   ]
  },
  {
   "cell_type": "markdown",
   "id": "2a67f3a7",
   "metadata": {},
   "source": [
    "### How many pets does each student have"
   ]
  },
  {
   "cell_type": "code",
   "execution_count": null,
   "id": "3e75c2b7",
   "metadata": {},
   "outputs": [],
   "source": []
  }
 ],
 "metadata": {
  "kernelspec": {
   "display_name": "Python 3 (ipykernel)",
   "language": "python",
   "name": "python3"
  },
  "language_info": {
   "codemirror_mode": {
    "name": "ipython",
    "version": 3
   },
   "file_extension": ".py",
   "mimetype": "text/x-python",
   "name": "python",
   "nbconvert_exporter": "python",
   "pygments_lexer": "ipython3",
   "version": "3.9.7"
  }
 },
 "nbformat": 4,
 "nbformat_minor": 5
}
