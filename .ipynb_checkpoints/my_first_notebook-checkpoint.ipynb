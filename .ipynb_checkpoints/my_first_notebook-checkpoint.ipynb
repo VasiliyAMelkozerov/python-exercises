{
 "cells": [
  {
   "cell_type": "markdown",
   "id": "04fa7732",
   "metadata": {},
   "source": [
    "# beebeep boopbap"
   ]
  },
  {
   "cell_type": "markdown",
   "id": "8d404114",
   "metadata": {},
   "source": [
    "i need this needs to be edited easier"
   ]
  },
  {
   "cell_type": "code",
   "execution_count": 1,
   "id": "e5e0b03f",
   "metadata": {},
   "outputs": [
    {
     "name": "stdout",
     "output_type": "stream",
     "text": [
      "Jimmy eats shoes\n"
     ]
    }
   ],
   "source": [
    "print(\"Jimmy eats shoes\")"
   ]
  },
  {
   "cell_type": "markdown",
   "id": "6c48352d",
   "metadata": {},
   "source": [
    "#command s saves the current file\n",
    "#option click toggles multiple lines\n",
    "#F5 to run code shift F5 to stop it"
   ]
  },
  {
   "cell_type": "code",
   "execution_count": null,
   "id": "381818ca",
   "metadata": {},
   "outputs": [],
   "source": [
    "v = 5 is variable assignment"
   ]
  },
  {
   "cell_type": "markdown",
   "id": "67339b6a",
   "metadata": {},
   "source": [
    "we can transform variables \n",
    "v + 5 "
   ]
  },
  {
   "cell_type": "code",
   "execution_count": null,
   "id": "76ace521",
   "metadata": {},
   "outputs": [],
   "source": [
    "operators are our verbs\n",
    "operators are +-=/"
   ]
  },
  {
   "cell_type": "code",
   "execution_count": 3,
   "id": "68454711",
   "metadata": {},
   "outputs": [],
   "source": [
    "favorite_number = 2"
   ]
  },
  {
   "cell_type": "code",
   "execution_count": 4,
   "id": "38112e1b",
   "metadata": {},
   "outputs": [
    {
     "data": {
      "text/plain": [
       "False"
      ]
     },
     "execution_count": 4,
     "metadata": {},
     "output_type": "execute_result"
    }
   ],
   "source": [
    "#!= means ain't\n",
    "favorite_number > 2"
   ]
  },
  {
   "cell_type": "code",
   "execution_count": 5,
   "id": "c2e9b6a9",
   "metadata": {},
   "outputs": [
    {
     "data": {
      "text/plain": [
       "True"
      ]
     },
     "execution_count": 5,
     "metadata": {},
     "output_type": "execute_result"
    }
   ],
   "source": [
    "2 in [1,2,3,4]\n",
    "#this is a collection"
   ]
  },
  {
   "cell_type": "code",
   "execution_count": 6,
   "id": "bcd833f8",
   "metadata": {},
   "outputs": [
    {
     "data": {
      "text/plain": [
       "False"
      ]
     },
     "execution_count": 6,
     "metadata": {},
     "output_type": "execute_result"
    }
   ],
   "source": [
    "3 in [1,2,4,5,6,7]"
   ]
  },
  {
   "cell_type": "code",
   "execution_count": 7,
   "id": "b10ef669",
   "metadata": {},
   "outputs": [
    {
     "data": {
      "text/plain": [
       "True"
      ]
     },
     "execution_count": 7,
     "metadata": {},
     "output_type": "execute_result"
    }
   ],
   "source": [
    "'a' in 'banana'"
   ]
  },
  {
   "cell_type": "code",
   "execution_count": 8,
   "id": "fc262b37",
   "metadata": {},
   "outputs": [
    {
     "data": {
      "text/plain": [
       "True"
      ]
     },
     "execution_count": 8,
     "metadata": {},
     "output_type": "execute_result"
    }
   ],
   "source": [
    "not False"
   ]
  },
  {
   "cell_type": "code",
   "execution_count": 10,
   "id": "4c341367",
   "metadata": {},
   "outputs": [
    {
     "data": {
      "text/plain": [
       "False"
      ]
     },
     "execution_count": 10,
     "metadata": {},
     "output_type": "execute_result"
    }
   ],
   "source": [
    "not not False"
   ]
  },
  {
   "cell_type": "code",
   "execution_count": 13,
   "id": "dc6fbe2a",
   "metadata": {},
   "outputs": [
    {
     "data": {
      "text/plain": [
       "True"
      ]
     },
     "execution_count": 13,
     "metadata": {},
     "output_type": "execute_result"
    }
   ],
   "source": [
    "not not not False"
   ]
  },
  {
   "cell_type": "code",
   "execution_count": 15,
   "id": "6111507a",
   "metadata": {},
   "outputs": [
    {
     "data": {
      "text/plain": [
       "<bound method NDFrame.head of      total_bill   tip     sex smoker   day    time  size\n",
       "1         16.99  1.01  Female     No   Sun  Dinner     2\n",
       "2         10.34  1.66    Male     No   Sun  Dinner     3\n",
       "3         21.01  3.50    Male     No   Sun  Dinner     3\n",
       "4         23.68  3.31    Male     No   Sun  Dinner     2\n",
       "5         24.59  3.61  Female     No   Sun  Dinner     4\n",
       "..          ...   ...     ...    ...   ...     ...   ...\n",
       "240       29.03  5.92    Male     No   Sat  Dinner     3\n",
       "241       27.18  2.00  Female    Yes   Sat  Dinner     2\n",
       "242       22.67  2.00    Male    Yes   Sat  Dinner     2\n",
       "243       17.82  1.75    Male     No   Sat  Dinner     2\n",
       "244       18.78  3.00  Female     No  Thur  Dinner     2\n",
       "\n",
       "[244 rows x 7 columns]>"
      ]
     },
     "execution_count": 15,
     "metadata": {},
     "output_type": "execute_result"
    }
   ],
   "source": [
    "from pydataset import data\n",
    "df = data('tips')\n",
    "df.head"
   ]
  },
  {
   "cell_type": "code",
   "execution_count": 18,
   "id": "22cd4112",
   "metadata": {},
   "outputs": [
    {
     "data": {
      "text/plain": [
       "'batman'"
      ]
     },
     "execution_count": 18,
     "metadata": {},
     "output_type": "execute_result"
    }
   ],
   "source": [
    "name = 'batman'\n",
    "name"
   ]
  },
  {
   "cell_type": "code",
   "execution_count": 20,
   "id": "bf605926",
   "metadata": {},
   "outputs": [
    {
     "name": "stdout",
     "output_type": "stream",
     "text": [
      "bob\n"
     ]
    },
    {
     "data": {
      "text/plain": [
       "NoneType"
      ]
     },
     "execution_count": 20,
     "metadata": {},
     "output_type": "execute_result"
    }
   ],
   "source": [
    "x = print('bob')\n",
    "type(x)"
   ]
  },
  {
   "cell_type": "code",
   "execution_count": 21,
   "id": "2eeeb6ff",
   "metadata": {},
   "outputs": [
    {
     "ename": "SyntaxError",
     "evalue": "invalid syntax (1943863270.py, line 2)",
     "output_type": "error",
     "traceback": [
      "\u001b[0;36m  File \u001b[0;32m\"/var/folders/cs/9mn89l_n6p3c9sq01q5f54kh0000gn/T/ipykernel_19867/1943863270.py\"\u001b[0;36m, line \u001b[0;32m2\u001b[0m\n\u001b[0;31m    -not: switches the boolean value of a value\u001b[0m\n\u001b[0m     ^\u001b[0m\n\u001b[0;31mSyntaxError\u001b[0m\u001b[0;31m:\u001b[0m invalid syntax\n"
     ]
    }
   ],
   "source": [
    "## logical operators\n",
    "-not: switches the boolean value of a value\n",
    "-and: making sure both peices are true\n",
    "-or: making sure at least one perice is true"
   ]
  },
  {
   "cell_type": "code",
   "execution_count": 23,
   "id": "f2913bbe",
   "metadata": {},
   "outputs": [],
   "source": [
    "doing_python_right_now = True\n",
    "currently_on_mars = False"
   ]
  },
  {
   "cell_type": "code",
   "execution_count": 25,
   "id": "6f329594",
   "metadata": {},
   "outputs": [
    {
     "data": {
      "text/plain": [
       "False"
      ]
     },
     "execution_count": 25,
     "metadata": {},
     "output_type": "execute_result"
    }
   ],
   "source": [
    "doing_python_right_now and currently_on_mars"
   ]
  },
  {
   "cell_type": "code",
   "execution_count": 27,
   "id": "045e65aa",
   "metadata": {},
   "outputs": [
    {
     "data": {
      "text/plain": [
       "True"
      ]
     },
     "execution_count": 27,
     "metadata": {},
     "output_type": "execute_result"
    }
   ],
   "source": [
    "doing_python_right_now or currently_on_mars"
   ]
  },
  {
   "cell_type": "code",
   "execution_count": 28,
   "id": "3f151391",
   "metadata": {},
   "outputs": [],
   "source": [
    "# when we combine and or not , (but == and not)\n",
    "#we want to use paraentheses to enfore execute order"
   ]
  },
  {
   "cell_type": "code",
   "execution_count": 31,
   "id": "b8bb2f76",
   "metadata": {},
   "outputs": [
    {
     "data": {
      "text/plain": [
       "False"
      ]
     },
     "execution_count": 31,
     "metadata": {},
     "output_type": "execute_result"
    }
   ],
   "source": [
    "is_logged_in = False\n",
    "is_admin = False\n",
    "is_author = True\n",
    "\n",
    "can_edit_post = is_logged_in and (is_admin or is_author)\n",
    "can_edit_post"
   ]
  },
  {
   "cell_type": "code",
   "execution_count": 32,
   "id": "f9ae865f",
   "metadata": {},
   "outputs": [],
   "source": [
    "#mathematical operators\n",
    "# +,-,*,/,**"
   ]
  },
  {
   "cell_type": "code",
   "execution_count": 41,
   "id": "89891084",
   "metadata": {},
   "outputs": [
    {
     "data": {
      "text/plain": [
       "8"
      ]
     },
     "execution_count": 41,
     "metadata": {},
     "output_type": "execute_result"
    }
   ],
   "source": [
    "2 ** 3 #two raised to the power of 3"
   ]
  },
  {
   "cell_type": "code",
   "execution_count": 36,
   "id": "7d936e9a",
   "metadata": {},
   "outputs": [
    {
     "data": {
      "text/plain": [
       "4.0"
      ]
     },
     "execution_count": 36,
     "metadata": {},
     "output_type": "execute_result"
    }
   ],
   "source": [
    "12 / 3"
   ]
  },
  {
   "cell_type": "code",
   "execution_count": 38,
   "id": "1637b458",
   "metadata": {},
   "outputs": [
    {
     "data": {
      "text/plain": [
       "True"
      ]
     },
     "execution_count": 38,
     "metadata": {},
     "output_type": "execute_result"
    }
   ],
   "source": [
    "4 ==  4.0"
   ]
  },
  {
   "cell_type": "code",
   "execution_count": 40,
   "id": "901004db",
   "metadata": {},
   "outputs": [
    {
     "data": {
      "text/plain": [
       "True"
      ]
     },
     "execution_count": 40,
     "metadata": {},
     "output_type": "execute_result"
    }
   ],
   "source": [
    "4 ==  4.00000000000000000000000000000000000000001"
   ]
  },
  {
   "cell_type": "code",
   "execution_count": 43,
   "id": "55c14807",
   "metadata": {},
   "outputs": [
    {
     "data": {
      "text/plain": [
       "1"
      ]
     },
     "execution_count": 43,
     "metadata": {},
     "output_type": "execute_result"
    }
   ],
   "source": [
    "#modulo operator\n",
    "# 5 % 2 read as five divided by 2 leaves what value\n",
    "5 % 2"
   ]
  },
  {
   "cell_type": "code",
   "execution_count": 45,
   "id": "cd28864d",
   "metadata": {},
   "outputs": [
    {
     "data": {
      "text/plain": [
       "True"
      ]
     },
     "execution_count": 45,
     "metadata": {},
     "output_type": "execute_result"
    }
   ],
   "source": [
    "#is evenly divisble\n",
    "4 % 2 ==  0"
   ]
  },
  {
   "cell_type": "code",
   "execution_count": 47,
   "id": "cff7daf4",
   "metadata": {},
   "outputs": [
    {
     "data": {
      "text/plain": [
       "1.5"
      ]
     },
     "execution_count": 47,
     "metadata": {},
     "output_type": "execute_result"
    }
   ],
   "source": [
    "3/2"
   ]
  },
  {
   "cell_type": "code",
   "execution_count": 49,
   "id": "91984624",
   "metadata": {},
   "outputs": [
    {
     "data": {
      "text/plain": [
       "1"
      ]
     },
     "execution_count": 49,
     "metadata": {},
     "output_type": "execute_result"
    }
   ],
   "source": [
    "3 // 2"
   ]
  },
  {
   "cell_type": "code",
   "execution_count": 51,
   "id": "60685025",
   "metadata": {},
   "outputs": [
    {
     "data": {
      "text/plain": [
       "2"
      ]
     },
     "execution_count": 51,
     "metadata": {},
     "output_type": "execute_result"
    }
   ],
   "source": [
    "3 & 2"
   ]
  },
  {
   "cell_type": "markdown",
   "id": "8fd0ed7b",
   "metadata": {},
   "source": [
    "3*5"
   ]
  },
  {
   "cell_type": "code",
   "execution_count": 54,
   "id": "627bde4a",
   "metadata": {},
   "outputs": [
    {
     "data": {
      "text/plain": [
       "15.5"
      ]
     },
     "execution_count": 54,
     "metadata": {},
     "output_type": "execute_result"
    }
   ],
   "source": [
    "3.1 * 5"
   ]
  },
  {
   "cell_type": "markdown",
   "id": "55eed55c",
   "metadata": {},
   "source": [
    "## strings\n",
    "- letterss or  numbers contained in double or single quotes\n",
    "- if we start a string with double quotes, we need to end w/ double\n",
    "- if we  start w/ single quotes, we end with single quotes\n",
    "- if we need a string that contains characters including "
   ]
  },
  {
   "cell_type": "code",
   "execution_count": 57,
   "id": "3d28f15d",
   "metadata": {},
   "outputs": [
    {
     "data": {
      "text/plain": [
       "'you been stick bugged'"
      ]
     },
     "execution_count": 57,
     "metadata": {},
     "output_type": "execute_result"
    }
   ],
   "source": [
    "message = 'you been stick bugged'\n",
    "message"
   ]
  },
  {
   "cell_type": "code",
   "execution_count": 58,
   "id": "2971f440",
   "metadata": {},
   "outputs": [],
   "source": [
    "#use case for triple quotes as a docstring\n",
    "def is_even(n):\n",
    "    \"\"\"returns a boolean if the input is an even number\"\"\"\n",
    "    return n % 2 == 0"
   ]
  },
  {
   "cell_type": "code",
   "execution_count": 1,
   "id": "a4e47962",
   "metadata": {},
   "outputs": [
    {
     "name": "stdout",
     "output_type": "stream",
     "text": [
      "Object `is_even` not found.\n"
     ]
    }
   ],
   "source": [
    "is_even?\n",
    "len?"
   ]
  },
  {
   "cell_type": "markdown",
   "id": "f0d8e97b",
   "metadata": {},
   "source": [
    "## string operations"
   ]
  },
  {
   "cell_type": "code",
   "execution_count": 3,
   "id": "b75a06e6",
   "metadata": {},
   "outputs": [
    {
     "data": {
      "text/plain": [
       "False"
      ]
     },
     "execution_count": 3,
     "metadata": {},
     "output_type": "execute_result"
    }
   ],
   "source": [
    "'Adam' == 'Gomez'"
   ]
  },
  {
   "cell_type": "code",
   "execution_count": 5,
   "id": "39c3e224",
   "metadata": {},
   "outputs": [
    {
     "data": {
      "text/plain": [
       "True"
      ]
     },
     "execution_count": 5,
     "metadata": {},
     "output_type": "execute_result"
    }
   ],
   "source": [
    "'ada smith' == 'ada smith'"
   ]
  },
  {
   "cell_type": "code",
   "execution_count": 7,
   "id": "dd9cc484",
   "metadata": {},
   "outputs": [
    {
     "data": {
      "text/plain": [
       "True"
      ]
     },
     "execution_count": 7,
     "metadata": {},
     "output_type": "execute_result"
    }
   ],
   "source": [
    "'Adam' < 'Dave'"
   ]
  },
  {
   "cell_type": "code",
   "execution_count": 10,
   "id": "763ed2b7",
   "metadata": {},
   "outputs": [
    {
     "data": {
      "text/plain": [
       "'adam gomez'"
      ]
     },
     "execution_count": 10,
     "metadata": {},
     "output_type": "execute_result"
    }
   ],
   "source": [
    "'adam' + \" \" + 'gomez'"
   ]
  },
  {
   "cell_type": "code",
   "execution_count": 12,
   "id": "28032347",
   "metadata": {},
   "outputs": [
    {
     "data": {
      "text/plain": [
       "'acbacbacb'"
      ]
     },
     "execution_count": 12,
     "metadata": {},
     "output_type": "execute_result"
    }
   ],
   "source": [
    "'acb' * 3"
   ]
  },
  {
   "cell_type": "code",
   "execution_count": 14,
   "id": "2315a36f",
   "metadata": {},
   "outputs": [
    {
     "data": {
      "text/plain": [
       "'21'"
      ]
     },
     "execution_count": 14,
     "metadata": {},
     "output_type": "execute_result"
    }
   ],
   "source": [
    "'2' + str(1)"
   ]
  },
  {
   "cell_type": "code",
   "execution_count": 16,
   "id": "c491b9b8",
   "metadata": {},
   "outputs": [
    {
     "data": {
      "text/plain": [
       "3"
      ]
     },
     "execution_count": 16,
     "metadata": {},
     "output_type": "execute_result"
    }
   ],
   "source": [
    "int('2') + 1"
   ]
  },
  {
   "cell_type": "code",
   "execution_count": 18,
   "id": "3673775a",
   "metadata": {},
   "outputs": [
    {
     "ename": "ValueError",
     "evalue": "invalid literal for int() with base 10: '2.123'",
     "output_type": "error",
     "traceback": [
      "\u001b[0;31m---------------------------------------------------------------------------\u001b[0m",
      "\u001b[0;31mValueError\u001b[0m                                Traceback (most recent call last)",
      "\u001b[0;32m/var/folders/cs/9mn89l_n6p3c9sq01q5f54kh0000gn/T/ipykernel_20702/2322753762.py\u001b[0m in \u001b[0;36m<module>\u001b[0;34m\u001b[0m\n\u001b[0;32m----> 1\u001b[0;31m \u001b[0mint\u001b[0m\u001b[0;34m(\u001b[0m\u001b[0;34m'2.123'\u001b[0m\u001b[0;34m)\u001b[0m\u001b[0;34m\u001b[0m\u001b[0;34m\u001b[0m\u001b[0m\n\u001b[0m\u001b[1;32m      2\u001b[0m \u001b[0;31m#python won't make assumptions\u001b[0m\u001b[0;34m\u001b[0m\u001b[0;34m\u001b[0m\u001b[0m\n",
      "\u001b[0;31mValueError\u001b[0m: invalid literal for int() with base 10: '2.123'"
     ]
    }
   ],
   "source": [
    "int('2.123')\n",
    "#python won't make assumptions"
   ]
  },
  {
   "cell_type": "code",
   "execution_count": 20,
   "id": "9ba4b46c",
   "metadata": {},
   "outputs": [
    {
     "ename": "ValueError",
     "evalue": "invalid literal for int() with base 10: '2.000'",
     "output_type": "error",
     "traceback": [
      "\u001b[0;31m---------------------------------------------------------------------------\u001b[0m",
      "\u001b[0;31mValueError\u001b[0m                                Traceback (most recent call last)",
      "\u001b[0;32m/var/folders/cs/9mn89l_n6p3c9sq01q5f54kh0000gn/T/ipykernel_20702/2530615689.py\u001b[0m in \u001b[0;36m<module>\u001b[0;34m\u001b[0m\n\u001b[0;32m----> 1\u001b[0;31m \u001b[0mint\u001b[0m\u001b[0;34m(\u001b[0m\u001b[0;34m'2.000'\u001b[0m\u001b[0;34m)\u001b[0m\u001b[0;34m\u001b[0m\u001b[0;34m\u001b[0m\u001b[0m\n\u001b[0m",
      "\u001b[0;31mValueError\u001b[0m: invalid literal for int() with base 10: '2.000'"
     ]
    }
   ],
   "source": [
    "int('2.000')"
   ]
  },
  {
   "cell_type": "markdown",
   "id": "68ddcaeb",
   "metadata": {},
   "source": [
    "## string formatting"
   ]
  },
  {
   "cell_type": "code",
   "execution_count": 22,
   "id": "89794f22",
   "metadata": {},
   "outputs": [],
   "source": [
    "name = 'World'"
   ]
  },
  {
   "cell_type": "code",
   "execution_count": 30,
   "id": "bce4f2eb",
   "metadata": {},
   "outputs": [
    {
     "data": {
      "text/plain": [
       "'Hello, World!'"
      ]
     },
     "execution_count": 30,
     "metadata": {},
     "output_type": "execute_result"
    }
   ],
   "source": [
    "'Hello, %s!' % name\n",
    "#absolute wizardry"
   ]
  },
  {
   "cell_type": "code",
   "execution_count": 29,
   "id": "9f32edf5",
   "metadata": {},
   "outputs": [
    {
     "data": {
      "text/plain": [
       "'Hello, World!'"
      ]
     },
     "execution_count": 29,
     "metadata": {},
     "output_type": "execute_result"
    }
   ],
   "source": [
    "'Hello, {}!' .format(name)"
   ]
  },
  {
   "cell_type": "code",
   "execution_count": 32,
   "id": "0dceed07",
   "metadata": {},
   "outputs": [
    {
     "data": {
      "text/plain": [
       "'Hello, World!'"
      ]
     },
     "execution_count": 32,
     "metadata": {},
     "output_type": "execute_result"
    }
   ],
   "source": [
    "f'Hello, {name}!'"
   ]
  },
  {
   "cell_type": "code",
   "execution_count": 33,
   "id": "4398a0ad",
   "metadata": {},
   "outputs": [],
   "source": [
    "number = 10"
   ]
  },
  {
   "cell_type": "code",
   "execution_count": 36,
   "id": "a8e4b876",
   "metadata": {},
   "outputs": [
    {
     "data": {
      "text/plain": [
       "'Hello 10'"
      ]
     },
     "execution_count": 36,
     "metadata": {},
     "output_type": "execute_result"
    }
   ],
   "source": [
    "f'Hello {number}'\n",
    "#or\n",
    "f'Hello {str(number)}'"
   ]
  },
  {
   "cell_type": "markdown",
   "id": "59a95c53",
   "metadata": {},
   "source": [
    "## string methods and indexing"
   ]
  },
  {
   "cell_type": "code",
   "execution_count": 38,
   "id": "5a4700de",
   "metadata": {},
   "outputs": [],
   "source": [
    "# function is going to listed first with () following\n",
    "#method is  going to  be listed last with .method .lower() .upper()\n",
    "#variable.strip()"
   ]
  },
  {
   "cell_type": "code",
   "execution_count": 39,
   "id": "81e14f1b",
   "metadata": {},
   "outputs": [
    {
     "data": {
      "text/plain": [
       "'1'"
      ]
     },
     "execution_count": 39,
     "metadata": {},
     "output_type": "execute_result"
    }
   ],
   "source": [
    "#function\n",
    "str(1)"
   ]
  },
  {
   "cell_type": "code",
   "execution_count": 40,
   "id": "581ba50d",
   "metadata": {},
   "outputs": [],
   "source": [
    "s =  '         Hello, CodeUp!     '"
   ]
  },
  {
   "cell_type": "code",
   "execution_count": 41,
   "id": "ab708a83",
   "metadata": {},
   "outputs": [
    {
     "data": {
      "text/plain": [
       "'         hello, codeup!     '"
      ]
     },
     "execution_count": 41,
     "metadata": {},
     "output_type": "execute_result"
    }
   ],
   "source": [
    "s.lower()"
   ]
  },
  {
   "cell_type": "code",
   "execution_count": 42,
   "id": "fe524cc7",
   "metadata": {},
   "outputs": [
    {
     "ename": "NameError",
     "evalue": "name 'lower' is not defined",
     "output_type": "error",
     "traceback": [
      "\u001b[0;31m---------------------------------------------------------------------------\u001b[0m",
      "\u001b[0;31mNameError\u001b[0m                                 Traceback (most recent call last)",
      "\u001b[0;32m/var/folders/cs/9mn89l_n6p3c9sq01q5f54kh0000gn/T/ipykernel_20702/3600325113.py\u001b[0m in \u001b[0;36m<module>\u001b[0;34m\u001b[0m\n\u001b[0;32m----> 1\u001b[0;31m \u001b[0mlower\u001b[0m\u001b[0;34m(\u001b[0m\u001b[0ms\u001b[0m\u001b[0;34m)\u001b[0m\u001b[0;34m\u001b[0m\u001b[0;34m\u001b[0m\u001b[0m\n\u001b[0m",
      "\u001b[0;31mNameError\u001b[0m: name 'lower' is not defined"
     ]
    }
   ],
   "source": [
    "lower(s)"
   ]
  },
  {
   "cell_type": "code",
   "execution_count": 44,
   "id": "e5743e2e",
   "metadata": {},
   "outputs": [
    {
     "data": {
      "text/plain": [
       "'Hello, CodeUp!'"
      ]
     },
     "execution_count": 44,
     "metadata": {},
     "output_type": "execute_result"
    }
   ],
   "source": [
    "s.strip()"
   ]
  },
  {
   "cell_type": "code",
   "execution_count": 45,
   "id": "98a3df9c",
   "metadata": {},
   "outputs": [
    {
     "data": {
      "text/plain": [
       "False"
      ]
     },
     "execution_count": 45,
     "metadata": {},
     "output_type": "execute_result"
    }
   ],
   "source": [
    "s.isdigit()"
   ]
  },
  {
   "cell_type": "code",
   "execution_count": 52,
   "id": "5d37d9ab",
   "metadata": {},
   "outputs": [
    {
     "data": {
      "text/plain": [
       "True"
      ]
     },
     "execution_count": 52,
     "metadata": {},
     "output_type": "execute_result"
    }
   ],
   "source": [
    "'123'.isdigit()"
   ]
  },
  {
   "cell_type": "code",
   "execution_count": 51,
   "id": "2b7ca9b3",
   "metadata": {},
   "outputs": [
    {
     "data": {
      "text/plain": [
       "['Hello', 'CodeUp!']"
      ]
     },
     "execution_count": 51,
     "metadata": {},
     "output_type": "execute_result"
    }
   ],
   "source": [
    "s.strip().split(', ')"
   ]
  },
  {
   "cell_type": "code",
   "execution_count": 54,
   "id": "fb4016e0",
   "metadata": {},
   "outputs": [
    {
     "data": {
      "text/plain": [
       "['Hello,', 'CodeUp!']"
      ]
     },
     "execution_count": 54,
     "metadata": {},
     "output_type": "execute_result"
    }
   ],
   "source": [
    "s.split()"
   ]
  },
  {
   "cell_type": "code",
   "execution_count": 56,
   "id": "e29a7d68",
   "metadata": {},
   "outputs": [
    {
     "data": {
      "text/plain": [
       "'one, two, three'"
      ]
     },
     "execution_count": 56,
     "metadata": {},
     "output_type": "execute_result"
    }
   ],
   "source": [
    "(', ').join(['one','two','three'])"
   ]
  },
  {
   "cell_type": "code",
   "execution_count": 59,
   "id": "a37c8409",
   "metadata": {},
   "outputs": [
    {
     "data": {
      "text/plain": [
       "'ONEwee woo, wee wooTOWwee woo, wee wooTHREE'"
      ]
     },
     "execution_count": 59,
     "metadata": {},
     "output_type": "execute_result"
    }
   ],
   "source": [
    "('wee woo, wee woo').join([\"ONE\",\"TOW\",\"THREE\"])"
   ]
  },
  {
   "cell_type": "markdown",
   "id": "66edafcf",
   "metadata": {},
   "source": [
    "## list and list operators"
   ]
  },
  {
   "cell_type": "code",
   "execution_count": 62,
   "id": "02ee0d8f",
   "metadata": {},
   "outputs": [
    {
     "data": {
      "text/plain": [
       "[1, 2, 3]"
      ]
     },
     "execution_count": 62,
     "metadata": {},
     "output_type": "execute_result"
    }
   ],
   "source": [
    "[1,2,3]"
   ]
  },
  {
   "cell_type": "code",
   "execution_count": 64,
   "id": "581d6088",
   "metadata": {},
   "outputs": [
    {
     "data": {
      "text/plain": [
       "[1, 'two', 3.12345]"
      ]
     },
     "execution_count": 64,
     "metadata": {},
     "output_type": "execute_result"
    }
   ],
   "source": [
    "[1,'two',3.12345]"
   ]
  },
  {
   "cell_type": "code",
   "execution_count": 66,
   "id": "4ac768b6",
   "metadata": {},
   "outputs": [
    {
     "data": {
      "text/plain": [
       "[[1, 2, 3], [4, 5, 6], [7, 8, 9]]"
      ]
     },
     "execution_count": 66,
     "metadata": {},
     "output_type": "execute_result"
    }
   ],
   "source": [
    "[[1,2,3],[4,5,6,],[7,8,9]]"
   ]
  },
  {
   "cell_type": "code",
   "execution_count": 69,
   "id": "77aa02ac",
   "metadata": {},
   "outputs": [
    {
     "data": {
      "text/plain": [
       "[[[0, 0, 0], 1, 2, 3], [4, 5, 6], [7, 8, 9]]"
      ]
     },
     "execution_count": 69,
     "metadata": {},
     "output_type": "execute_result"
    }
   ],
   "source": [
    "[[[0,0,0],1,2,3],[4,5,6,],[7,8,9]]"
   ]
  },
  {
   "cell_type": "code",
   "execution_count": 71,
   "id": "a8fd26f0",
   "metadata": {},
   "outputs": [
    {
     "data": {
      "text/plain": [
       "3"
      ]
     },
     "execution_count": 71,
     "metadata": {},
     "output_type": "execute_result"
    }
   ],
   "source": [
    "len([1,2,3])"
   ]
  },
  {
   "cell_type": "code",
   "execution_count": 73,
   "id": "ec69d3c3",
   "metadata": {},
   "outputs": [
    {
     "data": {
      "text/plain": [
       "3"
      ]
     },
     "execution_count": 73,
     "metadata": {},
     "output_type": "execute_result"
    }
   ],
   "source": [
    "len([[[0,0,0],1,2,3],[4,5,6,],[7,8,9]])"
   ]
  },
  {
   "cell_type": "code",
   "execution_count": 77,
   "id": "bedd04cf",
   "metadata": {},
   "outputs": [],
   "source": [
    "storage_box = []\n",
    "for each_number in [1,2,3,4,5,6,7]:\n",
    "    storage_box.append('box')\n",
    "# the item after for can be anythin and it will still run"
   ]
  },
  {
   "cell_type": "code",
   "execution_count": 78,
   "id": "c724e070",
   "metadata": {},
   "outputs": [
    {
     "data": {
      "text/plain": [
       "['box', 'box', 'box', 'box', 'box', 'box', 'box']"
      ]
     },
     "execution_count": 78,
     "metadata": {},
     "output_type": "execute_result"
    }
   ],
   "source": [
    "storage_box"
   ]
  },
  {
   "cell_type": "markdown",
   "id": "8659add4",
   "metadata": {},
   "source": [
    "## list comprehension"
   ]
  },
  {
   "cell_type": "code",
   "execution_count": 80,
   "id": "c138e801",
   "metadata": {},
   "outputs": [
    {
     "data": {
      "text/plain": [
       "['box', 'box', 'box', 'box', 'box', 'box', 'box']"
      ]
     },
     "execution_count": 80,
     "metadata": {},
     "output_type": "execute_result"
    }
   ],
   "source": [
    "['box' for  each_number in range(7)]"
   ]
  },
  {
   "cell_type": "code",
   "execution_count": 81,
   "id": "578e8795",
   "metadata": {},
   "outputs": [
    {
     "data": {
      "text/plain": [
       "range(0, 10)"
      ]
     },
     "execution_count": 81,
     "metadata": {},
     "output_type": "execute_result"
    }
   ],
   "source": [
    "range(10)"
   ]
  },
  {
   "cell_type": "code",
   "execution_count": 83,
   "id": "d3c7e977",
   "metadata": {},
   "outputs": [
    {
     "data": {
      "text/plain": [
       "[0, 1, 2, 3, 4, 5, 6, 7, 8, 9]"
      ]
     },
     "execution_count": 83,
     "metadata": {},
     "output_type": "execute_result"
    }
   ],
   "source": [
    "list(range(10))"
   ]
  },
  {
   "cell_type": "code",
   "execution_count": 87,
   "id": "53a52d4e",
   "metadata": {},
   "outputs": [],
   "source": [
    "storage_box3 = ['element' for each_element in ['1','2',123,1.245,'string',['1',2],0]]"
   ]
  },
  {
   "cell_type": "code",
   "execution_count": 88,
   "id": "fcf9c279",
   "metadata": {},
   "outputs": [
    {
     "data": {
      "text/plain": [
       "['element', 'element', 'element', 'element', 'element', 'element', 'element']"
      ]
     },
     "execution_count": 88,
     "metadata": {},
     "output_type": "execute_result"
    }
   ],
   "source": [
    "storage_box3"
   ]
  },
  {
   "cell_type": "code",
   "execution_count": 91,
   "id": "a0b8bc56",
   "metadata": {},
   "outputs": [],
   "source": [
    "storage_box4 = ['element' for beans in ['1','2',123,1.245,'string',['1',2],0]]"
   ]
  },
  {
   "cell_type": "code",
   "execution_count": 92,
   "id": "0b2730ae",
   "metadata": {},
   "outputs": [
    {
     "data": {
      "text/plain": [
       "['element', 'element', 'element', 'element', 'element', 'element', 'element']"
      ]
     },
     "execution_count": 92,
     "metadata": {},
     "output_type": "execute_result"
    }
   ],
   "source": [
    "storage_box4"
   ]
  },
  {
   "cell_type": "code",
   "execution_count": 94,
   "id": "b22ea256",
   "metadata": {},
   "outputs": [],
   "source": [
    "storage_box5 = [n * 2 for n in range(7)]"
   ]
  },
  {
   "cell_type": "code",
   "execution_count": 96,
   "id": "c4c53013",
   "metadata": {},
   "outputs": [
    {
     "data": {
      "text/plain": [
       "[0, 2, 4, 6, 8, 10, 12]"
      ]
     },
     "execution_count": 96,
     "metadata": {},
     "output_type": "execute_result"
    }
   ],
   "source": [
    "storage_box5"
   ]
  },
  {
   "cell_type": "code",
   "execution_count": 98,
   "id": "901edf21",
   "metadata": {},
   "outputs": [],
   "source": [
    "storage_box6 = ['box' * 2 for n in range(7)]"
   ]
  },
  {
   "cell_type": "code",
   "execution_count": 100,
   "id": "8a1f5ce3",
   "metadata": {},
   "outputs": [
    {
     "data": {
      "text/plain": [
       "['boxbox', 'boxbox', 'boxbox', 'boxbox', 'boxbox', 'boxbox', 'boxbox']"
      ]
     },
     "execution_count": 100,
     "metadata": {},
     "output_type": "execute_result"
    }
   ],
   "source": [
    "storage_box6"
   ]
  },
  {
   "cell_type": "code",
   "execution_count": 114,
   "id": "d8d1e6a7",
   "metadata": {},
   "outputs": [],
   "source": [
    "storage_box7 = [n * 2 for n in range(7) if n % 2 == 0]"
   ]
  },
  {
   "cell_type": "code",
   "execution_count": null,
   "id": "33bdec3e",
   "metadata": {},
   "outputs": [],
   "source": []
  },
  {
   "cell_type": "code",
   "execution_count": 104,
   "id": "e4595162",
   "metadata": {},
   "outputs": [
    {
     "data": {
      "text/plain": [
       "[0, 4, 8, 12]"
      ]
     },
     "execution_count": 104,
     "metadata": {},
     "output_type": "execute_result"
    }
   ],
   "source": [
    "storage_box7"
   ]
  },
  {
   "cell_type": "code",
   "execution_count": 108,
   "id": "149b88fd",
   "metadata": {},
   "outputs": [],
   "source": [
    "storage_box8 = [n * 2 for n in range(7) if n % 2 == 1]"
   ]
  },
  {
   "cell_type": "code",
   "execution_count": 109,
   "id": "8e258b18",
   "metadata": {},
   "outputs": [
    {
     "data": {
      "text/plain": [
       "[2, 6, 10]"
      ]
     },
     "execution_count": 109,
     "metadata": {},
     "output_type": "execute_result"
    }
   ],
   "source": [
    "storage_box8"
   ]
  },
  {
   "cell_type": "code",
   "execution_count": 111,
   "id": "6821ff95",
   "metadata": {},
   "outputs": [],
   "source": [
    "storage_box9 = [n * 2 for n in range(100) if n % 2 == 0 and (n % 3 == 0)]"
   ]
  },
  {
   "cell_type": "code",
   "execution_count": 112,
   "id": "1b00f97f",
   "metadata": {},
   "outputs": [
    {
     "data": {
      "text/plain": [
       "[0, 12, 24, 36, 48, 60, 72, 84, 96, 108, 120, 132, 144, 156, 168, 180, 192]"
      ]
     },
     "execution_count": 112,
     "metadata": {},
     "output_type": "execute_result"
    }
   ],
   "source": [
    "storage_box9"
   ]
  },
  {
   "cell_type": "markdown",
   "id": "d890ba75",
   "metadata": {},
   "source": [
    "## list operations"
   ]
  },
  {
   "cell_type": "code",
   "execution_count": 115,
   "id": "32d60269",
   "metadata": {},
   "outputs": [],
   "source": [
    "numbers = [1,2,3]"
   ]
  },
  {
   "cell_type": "code",
   "execution_count": 125,
   "id": "f69f4600",
   "metadata": {},
   "outputs": [
    {
     "data": {
      "text/plain": [
       "[1, 2, 3, 4, 4, 4, 4, 4, 4, 4, 4]"
      ]
     },
     "execution_count": 125,
     "metadata": {},
     "output_type": "execute_result"
    }
   ],
   "source": [
    "numbers.append(4)\n",
    "numbers"
   ]
  },
  {
   "cell_type": "code",
   "execution_count": 133,
   "id": "0ed68c04",
   "metadata": {},
   "outputs": [
    {
     "data": {
      "text/plain": [
       "[1, 2, 3]"
      ]
     },
     "execution_count": 133,
     "metadata": {},
     "output_type": "execute_result"
    }
   ],
   "source": [
    "numbers.pop()\n",
    "numbers"
   ]
  },
  {
   "cell_type": "code",
   "execution_count": 134,
   "id": "3bcb6537",
   "metadata": {},
   "outputs": [
    {
     "data": {
      "text/plain": [
       "3"
      ]
     },
     "execution_count": 134,
     "metadata": {},
     "output_type": "execute_result"
    }
   ],
   "source": [
    "removed_element = numbers.pop()\n",
    "removed_element"
   ]
  },
  {
   "cell_type": "code",
   "execution_count": 136,
   "id": "da06f053",
   "metadata": {},
   "outputs": [
    {
     "data": {
      "text/plain": [
       "[1, 2]"
      ]
     },
     "execution_count": 136,
     "metadata": {},
     "output_type": "execute_result"
    }
   ],
   "source": [
    "numbers"
   ]
  },
  {
   "cell_type": "code",
   "execution_count": 137,
   "id": "77441d7c",
   "metadata": {},
   "outputs": [
    {
     "data": {
      "text/plain": [
       "2"
      ]
     },
     "execution_count": 137,
     "metadata": {},
     "output_type": "execute_result"
    }
   ],
   "source": [
    "len(numbers)"
   ]
  },
  {
   "cell_type": "code",
   "execution_count": 139,
   "id": "3c93bbe6",
   "metadata": {},
   "outputs": [],
   "source": [
    "list_of_lists = [[[0,0,0],2,3],[4,5,6],[7,8,9]]"
   ]
  },
  {
   "cell_type": "code",
   "execution_count": 141,
   "id": "f9dbc411",
   "metadata": {},
   "outputs": [
    {
     "name": "stdout",
     "output_type": "stream",
     "text": [
      "[[0, 0, 0], 2, 3]\n",
      "[4, 5, 6]\n",
      "[7, 8, 9]\n"
     ]
    }
   ],
   "source": [
    "print(list_of_lists[0])\n",
    "print(list_of_lists[1])\n",
    "print(list_of_lists[2])"
   ]
  },
  {
   "cell_type": "code",
   "execution_count": 143,
   "id": "14c631f7",
   "metadata": {},
   "outputs": [
    {
     "data": {
      "text/plain": [
       "[0, 0, 0]"
      ]
     },
     "execution_count": 143,
     "metadata": {},
     "output_type": "execute_result"
    }
   ],
   "source": [
    "list_of_lists[0][0]"
   ]
  },
  {
   "cell_type": "code",
   "execution_count": 152,
   "id": "69c98ecf",
   "metadata": {},
   "outputs": [
    {
     "data": {
      "text/plain": [
       "0"
      ]
     },
     "execution_count": 152,
     "metadata": {},
     "output_type": "execute_result"
    }
   ],
   "source": [
    "list_of_lists[0][0][1]"
   ]
  },
  {
   "cell_type": "code",
   "execution_count": 146,
   "id": "16b2b442",
   "metadata": {},
   "outputs": [
    {
     "name": "stdout",
     "output_type": "stream",
     "text": [
      "3\n"
     ]
    }
   ],
   "source": [
    "print(list_of_lists[0][2])"
   ]
  },
  {
   "cell_type": "code",
   "execution_count": 150,
   "id": "3cf8db8a",
   "metadata": {},
   "outputs": [
    {
     "data": {
      "text/plain": [
       "[[[0, 0, 0], 2, 3], [4, 5, 6], [7, 8, 9]]"
      ]
     },
     "execution_count": 150,
     "metadata": {},
     "output_type": "execute_result"
    }
   ],
   "source": [
    "list_of_lists[:]"
   ]
  },
  {
   "cell_type": "code",
   "execution_count": 153,
   "id": "558e601f",
   "metadata": {},
   "outputs": [
    {
     "data": {
      "text/plain": [
       "[[4, 5, 6], [7, 8, 9]]"
      ]
     },
     "execution_count": 153,
     "metadata": {},
     "output_type": "execute_result"
    }
   ],
   "source": [
    "list_of_lists[1:3]"
   ]
  },
  {
   "cell_type": "code",
   "execution_count": 154,
   "id": "7c4c4ce1",
   "metadata": {},
   "outputs": [
    {
     "data": {
      "text/plain": [
       "[[[0, 0, 0], 2, 3], [4, 5, 6]]"
      ]
     },
     "execution_count": 154,
     "metadata": {},
     "output_type": "execute_result"
    }
   ],
   "source": [
    "list_of_lists[:2]"
   ]
  },
  {
   "cell_type": "code",
   "execution_count": 156,
   "id": "60571403",
   "metadata": {},
   "outputs": [
    {
     "data": {
      "text/plain": [
       "[[4, 5, 6]]"
      ]
     },
     "execution_count": 156,
     "metadata": {},
     "output_type": "execute_result"
    }
   ],
   "source": [
    "list_of_lists[1:2]"
   ]
  },
  {
   "cell_type": "code",
   "execution_count": 157,
   "id": "7d6da263",
   "metadata": {},
   "outputs": [],
   "source": [
    "string_example = 'abcdefg'"
   ]
  },
  {
   "cell_type": "code",
   "execution_count": 158,
   "id": "5dad521a",
   "metadata": {},
   "outputs": [
    {
     "data": {
      "text/plain": [
       "'defg'"
      ]
     },
     "execution_count": 158,
     "metadata": {},
     "output_type": "execute_result"
    }
   ],
   "source": [
    "string_example[3:]"
   ]
  },
  {
   "cell_type": "code",
   "execution_count": 159,
   "id": "5fe03fc1",
   "metadata": {},
   "outputs": [
    {
     "data": {
      "text/plain": [
       "'g'"
      ]
     },
     "execution_count": 159,
     "metadata": {},
     "output_type": "execute_result"
    }
   ],
   "source": [
    "string_example[-1]"
   ]
  },
  {
   "cell_type": "code",
   "execution_count": 161,
   "id": "26590033",
   "metadata": {},
   "outputs": [
    {
     "data": {
      "text/plain": [
       "'a'"
      ]
     },
     "execution_count": 161,
     "metadata": {},
     "output_type": "execute_result"
    }
   ],
   "source": [
    "string_example[0]"
   ]
  },
  {
   "cell_type": "code",
   "execution_count": 162,
   "id": "f4d59f2f",
   "metadata": {},
   "outputs": [
    {
     "data": {
      "text/plain": [
       "[[[0, 0, 0], 2, 3], [4, 5, 6], [7, 8, 9]]"
      ]
     },
     "execution_count": 162,
     "metadata": {},
     "output_type": "execute_result"
    }
   ],
   "source": [
    "list_of_lists"
   ]
  },
  {
   "cell_type": "code",
   "execution_count": 164,
   "id": "81bef842",
   "metadata": {},
   "outputs": [
    {
     "data": {
      "text/plain": [
       "[[0, 0, 0], 2, 3]"
      ]
     },
     "execution_count": 164,
     "metadata": {},
     "output_type": "execute_result"
    }
   ],
   "source": [
    "list_of_lists[0]"
   ]
  },
  {
   "cell_type": "code",
   "execution_count": 166,
   "id": "796c72f1",
   "metadata": {},
   "outputs": [
    {
     "data": {
      "text/plain": [
       "[2, 3]"
      ]
     },
     "execution_count": 166,
     "metadata": {},
     "output_type": "execute_result"
    }
   ],
   "source": [
    "list_of_lists[0][1:]"
   ]
  },
  {
   "cell_type": "markdown",
   "id": "16e7750e",
   "metadata": {},
   "source": [
    "## converting to a list"
   ]
  },
  {
   "cell_type": "code",
   "execution_count": 168,
   "id": "98bf9848",
   "metadata": {},
   "outputs": [
    {
     "data": {
      "text/plain": [
       "range(0, 7)"
      ]
     },
     "execution_count": 168,
     "metadata": {},
     "output_type": "execute_result"
    }
   ],
   "source": [
    "range(0,7)"
   ]
  },
  {
   "cell_type": "code",
   "execution_count": 169,
   "id": "e2f342fa",
   "metadata": {},
   "outputs": [
    {
     "data": {
      "text/plain": [
       "range"
      ]
     },
     "execution_count": 169,
     "metadata": {},
     "output_type": "execute_result"
    }
   ],
   "source": [
    "type(range(7))"
   ]
  },
  {
   "cell_type": "code",
   "execution_count": 170,
   "id": "b62a912b",
   "metadata": {},
   "outputs": [
    {
     "data": {
      "text/plain": [
       "7"
      ]
     },
     "execution_count": 170,
     "metadata": {},
     "output_type": "execute_result"
    }
   ],
   "source": [
    "len(range(7))"
   ]
  },
  {
   "cell_type": "code",
   "execution_count": 172,
   "id": "87d59b58",
   "metadata": {},
   "outputs": [
    {
     "data": {
      "text/plain": [
       "[0, 1, 2, 3, 4, 5, 6]"
      ]
     },
     "execution_count": 172,
     "metadata": {},
     "output_type": "execute_result"
    }
   ],
   "source": [
    "list(range(7))"
   ]
  },
  {
   "cell_type": "code",
   "execution_count": 173,
   "id": "e99b5fe6",
   "metadata": {},
   "outputs": [
    {
     "data": {
      "text/plain": [
       "['a', 'b', 'c', 'd', 'e']"
      ]
     },
     "execution_count": 173,
     "metadata": {},
     "output_type": "execute_result"
    }
   ],
   "source": [
    "list('abcde')"
   ]
  },
  {
   "cell_type": "code",
   "execution_count": 174,
   "id": "76b5eb41",
   "metadata": {},
   "outputs": [
    {
     "data": {
      "text/plain": [
       "list"
      ]
     },
     "execution_count": 174,
     "metadata": {},
     "output_type": "execute_result"
    }
   ],
   "source": [
    "type(list('abcde'))"
   ]
  },
  {
   "cell_type": "code",
   "execution_count": 175,
   "id": "4ce2f975",
   "metadata": {},
   "outputs": [
    {
     "data": {
      "text/plain": [
       "range(15, -3, -2)"
      ]
     },
     "execution_count": 175,
     "metadata": {},
     "output_type": "execute_result"
    }
   ],
   "source": [
    "range(15,-3,-2)"
   ]
  },
  {
   "cell_type": "code",
   "execution_count": 176,
   "id": "325a7a7d",
   "metadata": {},
   "outputs": [
    {
     "data": {
      "text/plain": [
       "[15, 13, 11, 9, 7, 5, 3, 1, -1]"
      ]
     },
     "execution_count": 176,
     "metadata": {},
     "output_type": "execute_result"
    }
   ],
   "source": [
    "list(range(15,-3,-2))"
   ]
  },
  {
   "cell_type": "code",
   "execution_count": 177,
   "id": "2b1e1ded",
   "metadata": {},
   "outputs": [
    {
     "data": {
      "text/plain": [
       "range(0, 1000000)"
      ]
     },
     "execution_count": 177,
     "metadata": {},
     "output_type": "execute_result"
    }
   ],
   "source": [
    "range(100*100*100)"
   ]
  },
  {
   "cell_type": "code",
   "execution_count": 178,
   "id": "ed51f1ab",
   "metadata": {},
   "outputs": [
    {
     "data": {
      "text/plain": [
       "['1', '2', '3']"
      ]
     },
     "execution_count": 178,
     "metadata": {},
     "output_type": "execute_result"
    }
   ],
   "source": [
    "list(map(str,[1,2,3]))"
   ]
  },
  {
   "cell_type": "code",
   "execution_count": 179,
   "id": "b846caf6",
   "metadata": {},
   "outputs": [
    {
     "data": {
      "text/plain": [
       "<map at 0x7f96a1e7f8b0>"
      ]
     },
     "execution_count": 179,
     "metadata": {},
     "output_type": "execute_result"
    }
   ],
   "source": [
    "map(str, [1,2,3])"
   ]
  },
  {
   "cell_type": "markdown",
   "id": "147d6574",
   "metadata": {},
   "source": [
    "##  tuples are lists that don't change"
   ]
  },
  {
   "cell_type": "code",
   "execution_count": 182,
   "id": "21fc2e01",
   "metadata": {},
   "outputs": [],
   "source": [
    "my_tuple=(1,2,3)"
   ]
  },
  {
   "cell_type": "code",
   "execution_count": 183,
   "id": "e78e90b7",
   "metadata": {},
   "outputs": [
    {
     "data": {
      "text/plain": [
       "(1, 2, 3)"
      ]
     },
     "execution_count": 183,
     "metadata": {},
     "output_type": "execute_result"
    }
   ],
   "source": [
    "my_tuple"
   ]
  },
  {
   "cell_type": "code",
   "execution_count": 184,
   "id": "e94e9efe",
   "metadata": {},
   "outputs": [
    {
     "data": {
      "text/plain": [
       "(3,)"
      ]
     },
     "execution_count": 184,
     "metadata": {},
     "output_type": "execute_result"
    }
   ],
   "source": [
    "my_tuple[2:]"
   ]
  },
  {
   "cell_type": "code",
   "execution_count": 185,
   "id": "5ace07f1",
   "metadata": {},
   "outputs": [
    {
     "ename": "AttributeError",
     "evalue": "'tuple' object has no attribute 'append'",
     "output_type": "error",
     "traceback": [
      "\u001b[0;31m---------------------------------------------------------------------------\u001b[0m",
      "\u001b[0;31mAttributeError\u001b[0m                            Traceback (most recent call last)",
      "\u001b[0;32m/var/folders/cs/9mn89l_n6p3c9sq01q5f54kh0000gn/T/ipykernel_20702/3420063398.py\u001b[0m in \u001b[0;36m<module>\u001b[0;34m\u001b[0m\n\u001b[0;32m----> 1\u001b[0;31m \u001b[0mmy_tuple\u001b[0m\u001b[0;34m.\u001b[0m\u001b[0mappend\u001b[0m\u001b[0;34m(\u001b[0m\u001b[0;36m4\u001b[0m\u001b[0;34m)\u001b[0m\u001b[0;34m\u001b[0m\u001b[0;34m\u001b[0m\u001b[0m\n\u001b[0m",
      "\u001b[0;31mAttributeError\u001b[0m: 'tuple' object has no attribute 'append'"
     ]
    }
   ],
   "source": [
    "my_tuple.append(4)"
   ]
  },
  {
   "cell_type": "code",
   "execution_count": 186,
   "id": "b4500399",
   "metadata": {},
   "outputs": [],
   "source": [
    "my_tuple=(2,3,4)"
   ]
  },
  {
   "cell_type": "code",
   "execution_count": 187,
   "id": "7064a18f",
   "metadata": {},
   "outputs": [
    {
     "data": {
      "text/plain": [
       "(2, 3, 4)"
      ]
     },
     "execution_count": 187,
     "metadata": {},
     "output_type": "execute_result"
    }
   ],
   "source": [
    "my_tuple"
   ]
  },
  {
   "cell_type": "markdown",
   "id": "5f1908b4",
   "metadata": {},
   "source": [
    "## Dictionaries"
   ]
  },
  {
   "cell_type": "code",
   "execution_count": 189,
   "id": "bd51b656",
   "metadata": {},
   "outputs": [],
   "source": [
    "dict={'users': ['bob','adam','sally','jen','mike'], 'roles' : ['admin','reciever', 'commentator']}"
   ]
  },
  {
   "cell_type": "code",
   "execution_count": 190,
   "id": "7a809a64",
   "metadata": {},
   "outputs": [
    {
     "data": {
      "text/plain": [
       "2"
      ]
     },
     "execution_count": 190,
     "metadata": {},
     "output_type": "execute_result"
    }
   ],
   "source": [
    "len(dict)"
   ]
  },
  {
   "cell_type": "code",
   "execution_count": 192,
   "id": "22df47c8",
   "metadata": {},
   "outputs": [
    {
     "data": {
      "text/plain": [
       "['bob', 'adam', 'sally', 'jen', 'mike']"
      ]
     },
     "execution_count": 192,
     "metadata": {},
     "output_type": "execute_result"
    }
   ],
   "source": [
    "dict['users']"
   ]
  },
  {
   "cell_type": "code",
   "execution_count": 193,
   "id": "ca109cd0",
   "metadata": {},
   "outputs": [
    {
     "data": {
      "text/plain": [
       "dict['roles']"
      ]
     },
     "execution_count": 193,
     "metadata": {},
     "output_type": "execute_result"
    }
   ],
   "source": [
    "dict['roles']"
   ]
  },
  {
   "cell_type": "code",
   "execution_count": 194,
   "id": "0b6d2c9c",
   "metadata": {},
   "outputs": [],
   "source": [
    "dict2 = {'name': 'Codeup', 'age':4}"
   ]
  },
  {
   "cell_type": "code",
   "execution_count": 195,
   "id": "e43a3eb6",
   "metadata": {},
   "outputs": [
    {
     "data": {
      "text/plain": [
       "'Codeup'"
      ]
     },
     "execution_count": 195,
     "metadata": {},
     "output_type": "execute_result"
    }
   ],
   "source": [
    "dict2['name']"
   ]
  },
  {
   "cell_type": "code",
   "execution_count": 196,
   "id": "fdcc70ca",
   "metadata": {},
   "outputs": [
    {
     "data": {
      "text/plain": [
       "{'name': 'Codeup', 'age': 4}"
      ]
     },
     "execution_count": 196,
     "metadata": {},
     "output_type": "execute_result"
    }
   ],
   "source": [
    "dict2"
   ]
  },
  {
   "cell_type": "code",
   "execution_count": 197,
   "id": "3962d101",
   "metadata": {},
   "outputs": [
    {
     "data": {
      "text/plain": [
       "4"
      ]
     },
     "execution_count": 197,
     "metadata": {},
     "output_type": "execute_result"
    }
   ],
   "source": [
    "dict2['age']"
   ]
  },
  {
   "cell_type": "code",
   "execution_count": 199,
   "id": "e87381a7",
   "metadata": {},
   "outputs": [],
   "source": [
    "dict2['age'] = dict2['age'] + 1"
   ]
  },
  {
   "cell_type": "code",
   "execution_count": 201,
   "id": "eee229fc",
   "metadata": {},
   "outputs": [
    {
     "data": {
      "text/plain": [
       "{'name': 'Codeup', 'age': 6}"
      ]
     },
     "execution_count": 201,
     "metadata": {},
     "output_type": "execute_result"
    }
   ],
   "source": [
    "dict2"
   ]
  },
  {
   "cell_type": "code",
   "execution_count": 202,
   "id": "c09921b1",
   "metadata": {},
   "outputs": [],
   "source": [
    "dict2['age'] = 'five'"
   ]
  },
  {
   "cell_type": "code",
   "execution_count": 203,
   "id": "b4cecbb9",
   "metadata": {},
   "outputs": [
    {
     "data": {
      "text/plain": [
       "{'name': 'Codeup', 'age': 'five'}"
      ]
     },
     "execution_count": 203,
     "metadata": {},
     "output_type": "execute_result"
    }
   ],
   "source": [
    "dict2"
   ]
  },
  {
   "cell_type": "code",
   "execution_count": 218,
   "id": "a3ee336b",
   "metadata": {},
   "outputs": [],
   "source": [
    "nested_dict = {'fruit_shops':{'location' : ['NW','NE','SW','SE'],'age': [10,14,13,12], 'manager':['bob','sally','steve','jim'], 'revenue':{'daily':[1230,1512,1233,5235]}}, 'bike_shop':'none'}"
   ]
  },
  {
   "cell_type": "code",
   "execution_count": 206,
   "id": "751c82b1",
   "metadata": {},
   "outputs": [
    {
     "data": {
      "text/plain": [
       "2"
      ]
     },
     "execution_count": 206,
     "metadata": {},
     "output_type": "execute_result"
    }
   ],
   "source": [
    "len(nested_dict)"
   ]
  },
  {
   "cell_type": "code",
   "execution_count": 208,
   "id": "b5ca37c0",
   "metadata": {},
   "outputs": [
    {
     "data": {
      "text/plain": [
       "dict_keys(['fruit_shops', 'bike_shop'])"
      ]
     },
     "execution_count": 208,
     "metadata": {},
     "output_type": "execute_result"
    }
   ],
   "source": [
    "nested_dict.keys()"
   ]
  },
  {
   "cell_type": "code",
   "execution_count": 219,
   "id": "cc96dfea",
   "metadata": {},
   "outputs": [
    {
     "data": {
      "text/plain": [
       "{'location': ['NW', 'NE', 'SW', 'SE'],\n",
       " 'age': [10, 14, 13, 12],\n",
       " 'manager': ['bob', 'sally', 'steve', 'jim'],\n",
       " 'revenue': {'daily': [1230, 1512, 1233, 5235]}}"
      ]
     },
     "execution_count": 219,
     "metadata": {},
     "output_type": "execute_result"
    }
   ],
   "source": [
    "nested_dict['fruit_shops']"
   ]
  },
  {
   "cell_type": "code",
   "execution_count": 220,
   "id": "6687e71b",
   "metadata": {},
   "outputs": [
    {
     "ename": "KeyError",
     "evalue": "'bike_shops'",
     "output_type": "error",
     "traceback": [
      "\u001b[0;31m---------------------------------------------------------------------------\u001b[0m",
      "\u001b[0;31mKeyError\u001b[0m                                  Traceback (most recent call last)",
      "\u001b[0;32m/var/folders/cs/9mn89l_n6p3c9sq01q5f54kh0000gn/T/ipykernel_20702/2752813312.py\u001b[0m in \u001b[0;36m<module>\u001b[0;34m\u001b[0m\n\u001b[0;32m----> 1\u001b[0;31m \u001b[0mnested_dict\u001b[0m\u001b[0;34m[\u001b[0m\u001b[0;34m'bike_shops'\u001b[0m\u001b[0;34m]\u001b[0m\u001b[0;34m\u001b[0m\u001b[0;34m\u001b[0m\u001b[0m\n\u001b[0m",
      "\u001b[0;31mKeyError\u001b[0m: 'bike_shops'"
     ]
    }
   ],
   "source": [
    "nested_dict['bike_shops']"
   ]
  },
  {
   "cell_type": "code",
   "execution_count": 216,
   "id": "d600b343",
   "metadata": {},
   "outputs": [
    {
     "data": {
      "text/plain": [
       "{'daily': [1230, 1512, 1233, 5235]}"
      ]
     },
     "execution_count": 216,
     "metadata": {},
     "output_type": "execute_result"
    }
   ],
   "source": [
    "nested_dict['fruit_shops']['revenue']"
   ]
  },
  {
   "cell_type": "code",
   "execution_count": 223,
   "id": "4a72947f",
   "metadata": {},
   "outputs": [
    {
     "data": {
      "text/plain": [
       "[1230, 1512, 1233, 5235]"
      ]
     },
     "execution_count": 223,
     "metadata": {},
     "output_type": "execute_result"
    }
   ],
   "source": [
    "nested_dict['fruit_shops']['revenue']['daily']"
   ]
  },
  {
   "cell_type": "code",
   "execution_count": 224,
   "id": "aaefad65",
   "metadata": {},
   "outputs": [
    {
     "data": {
      "text/plain": [
       "dict_keys(['location', 'age', 'manager', 'revenue'])"
      ]
     },
     "execution_count": 224,
     "metadata": {},
     "output_type": "execute_result"
    }
   ],
   "source": [
    "nested_dict['fruit_shops'].keys()"
   ]
  },
  {
   "cell_type": "code",
   "execution_count": 229,
   "id": "3e292a55",
   "metadata": {},
   "outputs": [],
   "source": [
    "nes4 = nested_dict['fruit_shops']['revenue']['daily'][3]"
   ]
  },
  {
   "cell_type": "code",
   "execution_count": 230,
   "id": "870f8fd6",
   "metadata": {},
   "outputs": [
    {
     "data": {
      "text/plain": [
       "5335"
      ]
     },
     "execution_count": 230,
     "metadata": {},
     "output_type": "execute_result"
    }
   ],
   "source": [
    "nes4 + 100"
   ]
  },
  {
   "cell_type": "code",
   "execution_count": null,
   "id": "894e0275",
   "metadata": {},
   "outputs": [],
   "source": []
  }
 ],
 "metadata": {
  "kernelspec": {
   "display_name": "Python 3 (ipykernel)",
   "language": "python",
   "name": "python3"
  },
  "language_info": {
   "codemirror_mode": {
    "name": "ipython",
    "version": 3
   },
   "file_extension": ".py",
   "mimetype": "text/x-python",
   "name": "python",
   "nbconvert_exporter": "python",
   "pygments_lexer": "ipython3",
   "version": "3.9.7"
  }
 },
 "nbformat": 4,
 "nbformat_minor": 5
}
