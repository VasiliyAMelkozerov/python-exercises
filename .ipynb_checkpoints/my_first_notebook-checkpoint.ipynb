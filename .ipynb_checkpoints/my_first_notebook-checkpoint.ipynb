{
 "cells": [
  {
   "cell_type": "markdown",
   "id": "04fa7732",
   "metadata": {},
   "source": [
    "# beebeep boopbap"
   ]
  },
  {
   "cell_type": "markdown",
   "id": "7fdb8b4e",
   "metadata": {},
   "source": [
    "i need this needs to be edited easier"
   ]
  },
  {
   "cell_type": "code",
   "execution_count": null,
   "id": "a5b3a78b",
   "metadata": {},
   "outputs": [],
   "source": []
  },
  {
   "cell_type": "code",
   "execution_count": null,
   "id": "78ad3f88",
   "metadata": {},
   "outputs": [],
   "source": []
  },
  {
   "cell_type": "code",
   "execution_count": 1,
   "id": "e5e0b03f",
   "metadata": {},
   "outputs": [
    {
     "name": "stdout",
     "output_type": "stream",
     "text": [
      "Jimmy eats shoes\n"
     ]
    }
   ],
   "source": [
    "print(\"Jimmy eats shoes\")"
   ]
  },
  {
   "cell_type": "code",
   "execution_count": null,
   "id": "a06cfa9a",
   "metadata": {},
   "outputs": [],
   "source": []
  },
  {
   "cell_type": "markdown",
   "id": "21453d6f",
   "metadata": {},
   "source": [
    "#command s saves the current file\n",
    "#option click toggles multiple lines\n",
    "#F5 to run code shift F5 to stop it"
   ]
  },
  {
   "cell_type": "code",
   "execution_count": null,
   "id": "fb6d92f1",
   "metadata": {},
   "outputs": [],
   "source": [
    "v = 5 is variable assignment"
   ]
  },
  {
   "cell_type": "markdown",
   "id": "fc92b256",
   "metadata": {},
   "source": [
    "we can transform variables \n",
    "v + 5 "
   ]
  },
  {
   "cell_type": "code",
   "execution_count": null,
   "id": "f963ba17",
   "metadata": {},
   "outputs": [],
   "source": [
    "operators are our verbs\n",
    "operators are +-=/"
   ]
  },
  {
   "cell_type": "code",
   "execution_count": 3,
   "id": "0dde032b",
   "metadata": {},
   "outputs": [],
   "source": [
    "favorite_number = 2"
   ]
  },
  {
   "cell_type": "code",
   "execution_count": 4,
   "id": "494aaa7c",
   "metadata": {},
   "outputs": [
    {
     "data": {
      "text/plain": [
       "False"
      ]
     },
     "execution_count": 4,
     "metadata": {},
     "output_type": "execute_result"
    }
   ],
   "source": [
    "#!= means ain't\n",
    "favorite_number > 2"
   ]
  },
  {
   "cell_type": "code",
   "execution_count": 5,
   "id": "b0febb73",
   "metadata": {},
   "outputs": [
    {
     "data": {
      "text/plain": [
       "True"
      ]
     },
     "execution_count": 5,
     "metadata": {},
     "output_type": "execute_result"
    }
   ],
   "source": [
    "2 in [1,2,3,4]\n",
    "#this is a collection"
   ]
  },
  {
   "cell_type": "code",
   "execution_count": 6,
   "id": "d50bcb89",
   "metadata": {},
   "outputs": [
    {
     "data": {
      "text/plain": [
       "False"
      ]
     },
     "execution_count": 6,
     "metadata": {},
     "output_type": "execute_result"
    }
   ],
   "source": [
    "3 in [1,2,4,5,6,7]"
   ]
  },
  {
   "cell_type": "code",
   "execution_count": 7,
   "id": "a5753ca2",
   "metadata": {},
   "outputs": [
    {
     "data": {
      "text/plain": [
       "True"
      ]
     },
     "execution_count": 7,
     "metadata": {},
     "output_type": "execute_result"
    }
   ],
   "source": [
    "'a' in 'banana'"
   ]
  },
  {
   "cell_type": "code",
   "execution_count": 8,
   "id": "3b30a562",
   "metadata": {},
   "outputs": [
    {
     "data": {
      "text/plain": [
       "True"
      ]
     },
     "execution_count": 8,
     "metadata": {},
     "output_type": "execute_result"
    }
   ],
   "source": [
    "not False"
   ]
  },
  {
   "cell_type": "code",
   "execution_count": 10,
   "id": "dfbc3975",
   "metadata": {},
   "outputs": [
    {
     "data": {
      "text/plain": [
       "False"
      ]
     },
     "execution_count": 10,
     "metadata": {},
     "output_type": "execute_result"
    }
   ],
   "source": [
    "not not False"
   ]
  },
  {
   "cell_type": "code",
   "execution_count": 13,
   "id": "e591d907",
   "metadata": {},
   "outputs": [
    {
     "data": {
      "text/plain": [
       "True"
      ]
     },
     "execution_count": 13,
     "metadata": {},
     "output_type": "execute_result"
    }
   ],
   "source": [
    "not not not False"
   ]
  },
  {
   "cell_type": "code",
   "execution_count": null,
   "id": "8da9c5ca",
   "metadata": {},
   "outputs": [],
   "source": [
    "from pydataset import data\n",
    "df = data('tips')\n",
    "df.head"
   ]
  }
 ],
 "metadata": {
  "kernelspec": {
   "display_name": "Python 3 (ipykernel)",
   "language": "python",
   "name": "python3"
  },
  "language_info": {
   "codemirror_mode": {
    "name": "ipython",
    "version": 3
   },
   "file_extension": ".py",
   "mimetype": "text/x-python",
   "name": "python",
   "nbconvert_exporter": "python",
   "pygments_lexer": "ipython3",
   "version": "3.9.7"
  }
 },
 "nbformat": 4,
 "nbformat_minor": 5
}
