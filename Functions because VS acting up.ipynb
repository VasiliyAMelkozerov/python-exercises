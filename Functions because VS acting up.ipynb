{
 "cells": [
  {
   "cell_type": "markdown",
   "id": "f0a967c5",
   "metadata": {},
   "source": [
    "# Functions page"
   ]
  },
  {
   "cell_type": "code",
   "execution_count": 1,
   "id": "925a19ce",
   "metadata": {},
   "outputs": [
    {
     "data": {
      "text/plain": [
       "<function max>"
      ]
     },
     "execution_count": 1,
     "metadata": {},
     "output_type": "execute_result"
    }
   ],
   "source": [
    "# a reference to the max function\n",
    "max"
   ]
  },
  {
   "cell_type": "code",
   "execution_count": 2,
   "id": "561d94d0",
   "metadata": {},
   "outputs": [
    {
     "data": {
      "text/plain": [
       "4"
      ]
     },
     "execution_count": 2,
     "metadata": {},
     "output_type": "execute_result"
    }
   ],
   "source": [
    "max([4,3,2,1])"
   ]
  },
  {
   "cell_type": "code",
   "execution_count": 3,
   "id": "f7270d26",
   "metadata": {},
   "outputs": [
    {
     "name": "stdout",
     "output_type": "stream",
     "text": [
      "4\n"
     ]
    }
   ],
   "source": [
    "maximum_number = max([4, 2, 3, 1])\n",
    "print(maximum_number)"
   ]
  },
  {
   "cell_type": "code",
   "execution_count": 4,
   "id": "b06d0dd5",
   "metadata": {},
   "outputs": [
    {
     "name": "stdout",
     "output_type": "stream",
     "text": [
      "The max is: 4\n"
     ]
    }
   ],
   "source": [
    "print('The max is: ' + str(max([4, 2, 3, 1])))"
   ]
  },
  {
   "cell_type": "code",
   "execution_count": 5,
   "id": "9e324f51",
   "metadata": {
    "scrolled": true
   },
   "outputs": [
    {
     "ename": "TypeError",
     "evalue": "can only concatenate str (not \"int\") to str",
     "output_type": "error",
     "traceback": [
      "\u001b[0;31m---------------------------------------------------------------------------\u001b[0m",
      "\u001b[0;31mTypeError\u001b[0m                                 Traceback (most recent call last)",
      "\u001b[0;32m/var/folders/cs/9mn89l_n6p3c9sq01q5f54kh0000gn/T/ipykernel_5689/3284517772.py\u001b[0m in \u001b[0;36m<module>\u001b[0;34m\u001b[0m\n\u001b[0;32m----> 1\u001b[0;31m \u001b[0mprint\u001b[0m\u001b[0;34m(\u001b[0m\u001b[0;34m'The max is: '\u001b[0m \u001b[0;34m+\u001b[0m \u001b[0mint\u001b[0m\u001b[0;34m(\u001b[0m\u001b[0mmax\u001b[0m\u001b[0;34m(\u001b[0m\u001b[0;34m[\u001b[0m\u001b[0;36m4\u001b[0m\u001b[0;34m,\u001b[0m \u001b[0;36m2\u001b[0m\u001b[0;34m,\u001b[0m \u001b[0;36m3\u001b[0m\u001b[0;34m,\u001b[0m \u001b[0;36m1\u001b[0m\u001b[0;34m]\u001b[0m\u001b[0;34m)\u001b[0m\u001b[0;34m)\u001b[0m\u001b[0;34m)\u001b[0m\u001b[0;34m\u001b[0m\u001b[0;34m\u001b[0m\u001b[0m\n\u001b[0m",
      "\u001b[0;31mTypeError\u001b[0m: can only concatenate str (not \"int\") to str"
     ]
    }
   ],
   "source": [
    "#keeping this error in here to show that f-string can be used to fix problems\n",
    "print('The max is: ' + str(max([4, 2, 3, 1])))"
   ]
  },
  {
   "cell_type": "code",
   "execution_count": 10,
   "id": "eb8bc604",
   "metadata": {},
   "outputs": [],
   "source": [
    "def increment(n):\n",
    "    return n + 1"
   ]
  },
  {
   "cell_type": "code",
   "execution_count": 11,
   "id": "2ab73141",
   "metadata": {},
   "outputs": [
    {
     "name": "stdout",
     "output_type": "stream",
     "text": [
      "6\n"
     ]
    }
   ],
   "source": [
    "six = increment(increment(increment(3)))\n",
    "\n",
    "print(six)\n",
    "#it looks kinda like this\n",
    "\n",
    "# six = increment(increment(increment(3)))\n",
    "# six = increment(increment(4))\n",
    "# six = increment(5)\n",
    "# six = 6\n"
   ]
  },
  {
   "cell_type": "code",
   "execution_count": 12,
   "id": "b2984b4a",
   "metadata": {},
   "outputs": [
    {
     "data": {
      "text/plain": [
       "4"
      ]
     },
     "execution_count": 12,
     "metadata": {},
     "output_type": "execute_result"
    }
   ],
   "source": [
    "def increment(n):\n",
    "    return n + 1\n",
    "    print('You will never see this')\n",
    "    return n + 1\n",
    "\n",
    "increment(3)"
   ]
  },
  {
   "cell_type": "code",
   "execution_count": 61,
   "id": "a5c00d76",
   "metadata": {},
   "outputs": [
    {
     "name": "stdout",
     "output_type": "stream",
     "text": [
      "Press 2: 2\n",
      "True\n",
      "2\n"
     ]
    }
   ],
   "source": [
    "press = int(input(\"Press 2: \"))\n",
    "#tried to pass a string in my arguement\n",
    "    \n",
    "def is_two(x):\n",
    "    if x == 2:\n",
    "        return True\n",
    "    else:\n",
    "        return False\n",
    "\n",
    "print(is_two(press))\n",
    "print(press)"
   ]
  },
  {
   "cell_type": "code",
   "execution_count": 16,
   "id": "0c3590a8",
   "metadata": {},
   "outputs": [
    {
     "name": "stdout",
     "output_type": "stream",
     "text": [
      "Type vowel: y\n",
      "True\n"
     ]
    }
   ],
   "source": [
    "# Define a function named is_vowel. \n",
    "# It should return True if the passed string is a vowel, \n",
    "# False otherwise.\n",
    "char=str(input(\"Type vowel: \"))\n",
    "\n",
    "# def is_vowel(x):\n",
    "#     if x.low\"ER\" in AEIOU:'aeiou'\n",
    "#         return True\n",
    "# print(is_vowel(char))\n",
    "#above is my original code, below is from stack overflow\n",
    "def isVowel(x):\n",
    "    if x.lower() in 'aeiou' or 'y':\n",
    "        return True\n",
    "    else:\n",
    "        return False\n",
    "    \n",
    "print(isVowel(char))"
   ]
  },
  {
   "cell_type": "code",
   "execution_count": 22,
   "id": "2bdcb668",
   "metadata": {},
   "outputs": [
    {
     "name": "stdout",
     "output_type": "stream",
     "text": [
      "Input a consonant: y\n",
      "True\n"
     ]
    }
   ],
   "source": [
    "# Define a function named is_consonant. \n",
    "# It should return True if the passed string \n",
    "# is a consonant, False otherwise.\n",
    "# Use your is_vowel function to accomplish this.\n",
    "n=input('Input a consonant: ')\n",
    "def is_consonant(x):\n",
    "    if x.lower() not in 'aeiou':\n",
    "        return True\n",
    "    else:\n",
    "        return False\n",
    "    \n",
    "print(is_consonant(n))"
   ]
  },
  {
   "cell_type": "code",
   "execution_count": 25,
   "id": "db6428a7",
   "metadata": {},
   "outputs": [
    {
     "name": "stdout",
     "output_type": "stream",
     "text": [
      "Put in one word and hit enter: sdfghjk\n",
      "Sdfghjk\n"
     ]
    }
   ],
   "source": [
    "# Define a function that accepts a string that is a word. \n",
    "# The function should capitalize the first letter of the word \n",
    "# if the word starts with a consonant.\n",
    "word=input(\"Put in one word and hit enter: \")\n",
    "\n",
    "def raise_letter(x):\n",
    "    return x.capitalize()\n",
    "\n",
    "print(raise_letter(word))"
   ]
  },
  {
   "cell_type": "code",
   "execution_count": 33,
   "id": "a72040bb",
   "metadata": {},
   "outputs": [
    {
     "name": "stdout",
     "output_type": "stream",
     "text": [
      "How much was the food: 45\n",
      "Input decimal for tip perfect: .54\n",
      "You should tip:  24.3\n"
     ]
    }
   ],
   "source": [
    "# Define a function named calculate_tip. \n",
    "# It should accept a tip percentage (a number between 0 and 1)\n",
    "# and the bill total,and return the amount to tip.\n",
    "\n",
    "bill=input(\"How much was the food: \")\n",
    "tip=input(\"Input decimal for tip perfect: \")\n",
    "\n",
    "def calculate(x,y):\n",
    "    return int(x) * float(y)\n",
    "#interesting not i had register tip as float\n",
    "print(\"You should tip: \",calculate(bill,tip))"
   ]
  },
  {
   "cell_type": "code",
   "execution_count": 44,
   "id": "e37206c3",
   "metadata": {},
   "outputs": [
    {
     "name": "stdout",
     "output_type": "stream",
     "text": [
      "Original price: 45\n",
      "Discount percentage: 5\n",
      "The amount saved from coupon:  2.25\n"
     ]
    }
   ],
   "source": [
    "# Define a function named apply_discount. \n",
    "# It should accept a original price, and a discount percentage, \n",
    "# and return the price after the discount is applied.\n",
    "\n",
    "price=input(\"Original price: \")\n",
    "discount=int(input(\"Discount percentage: \"))\n",
    "\n",
    "def apply_discount(x,y):\n",
    "    y *= .01\n",
    "    #y = float(y)\n",
    "    return int(x) * y\n",
    "\n",
    "print(\"The amount saved from coupon: \",apply_discount(price,discount))"
   ]
  },
  {
   "cell_type": "code",
   "execution_count": 55,
   "id": "758fe286",
   "metadata": {},
   "outputs": [
    {
     "name": "stdout",
     "output_type": "stream",
     "text": [
      "Put in a big number that has commas: 2\n",
      "2\n"
     ]
    }
   ],
   "source": [
    "# Define a function named handle_commas. \n",
    "# It should accept a string that is a number that \n",
    "# contains commas in it as input, and return a number as output.\n",
    "numba=input(\"Put in a big number that has commas: \")\n",
    "\n",
    "#when doubling back attempt assert\n",
    "#the input can be run assert test to return simple clean values\n",
    "\n",
    "\n",
    "#assert assert assert\n",
    "\n",
    "\n",
    "def handle_commas(x):\n",
    "    return x.replace(\",\",\"\")\n",
    "#replace takes in two arguements, what it is looking for \n",
    "#and what is going to replace it\n",
    "print(handle_commas(numba))"
   ]
  },
  {
   "cell_type": "code",
   "execution_count": 66,
   "id": "769d4899",
   "metadata": {},
   "outputs": [],
   "source": [
    "# Define a function named get_letter_grade. \n",
    "# It should accept a number and return the letter grade associated\n",
    "# with that number (A-F).\n",
    "grade_1=100\n",
    "grade_2=90\n",
    "grade_3=80\n",
    "grade_4=70\n",
    "grade_5=60\n",
    "grade_6=50\n",
    "grade_7=32\n",
    "\n",
    "def get_def_letter(x):\n",
    "    if x >= 90:\n",
    "        return \"A\"\n",
    "    elif x >= 80:\n",
    "        return \"B\"\n",
    "    elif x >= 70:\n",
    "        return \"C\"\n",
    "    elif x >= 60:\n",
    "        return \"D\"\n",
    "    elif 59 >= x >= 0:\n",
    "        return \"F\"\n",
    "    else:\n",
    "        return False\n",
    "    \n",
    "assert get_def_letter(grade_1) == \"A\"\n",
    "assert get_def_letter(grade_2) == \"A\"\n",
    "assert get_def_letter(grade_3) == \"B\"\n",
    "assert get_def_letter(grade_4) == \"C\"\n",
    "assert get_def_letter(grade_5) == \"D\"\n",
    "assert get_def_letter(grade_6) == \"F\"\n",
    "assert get_def_letter(grade_7) == \"F\"\n",
    "#assert(get_def_letter(grade_4))"
   ]
  },
  {
   "cell_type": "code",
   "execution_count": 84,
   "id": "02abc7d2",
   "metadata": {},
   "outputs": [],
   "source": [
    "# Define a function named remove_vowels that \n",
    "# accepts a string and returns a string with \n",
    "# all the vowels removed.\n",
    "w=\"word\"\n",
    "a=\"asdf\"\n",
    "l=\"leedle\"\n",
    "b=\"aeiou\"\n",
    "\n",
    "def remove_vowels(x):\n",
    "    for i in \"aeiouAEIOU\":\n",
    "        x = x.replace(i,\"\")\n",
    "    return x\n",
    "\n",
    "assert remove_vowels(b) == \"\"\n",
    "assert remove_vowels(w) == \"wrd\"\n",
    "assert remove_vowels(a) == \"sdf\"\n",
    "assert remove_vowels(l) == \"ldl\""
   ]
  },
  {
   "cell_type": "code",
   "execution_count": 110,
   "id": "49a08b5b",
   "metadata": {},
   "outputs": [],
   "source": [
    "# Define a function named normalize_name. It should \n",
    "# accept a string and return a valid python identifier, that is:\n",
    "t1 = \"Name\"\n",
    "t2 = \"First Name\"\n",
    "t3 = \"% Completed\"\n",
    "t4 =\"      yeet\"\n",
    "def normalize_name(x):\n",
    "    x = x.lower()\n",
    "    x = x.replace(\"%\",\"\")\n",
    "    x = x.strip()\n",
    "    x = x.replace(\" \",\"_\")\n",
    "    return x\n",
    "\n",
    "assert normalize_name(t1) == \"name\"\n",
    "assert normalize_name(t2) == \"first_name\"\n",
    "assert normalize_name(t3) == \"completed\"\n",
    "assert normalize_name(t4) == \"yeet\""
   ]
  },
  {
   "cell_type": "code",
   "execution_count": 128,
   "id": "eb533caf",
   "metadata": {},
   "outputs": [],
   "source": [
    "# Write a function named cumulative_sum that accepts a \n",
    "# list of numbers and returns a list that is the cumulative \n",
    "# sum of the numbers in the list.\n",
    "l=([1,1,1])\n",
    "m=([23,54,1,52,3])\n",
    "n=([1324,1324])\n",
    "o=([3,2,1,4])\n",
    "p=([1,2,3,4,5,6,7,8,9,0])\n",
    "\n",
    "def cumulative_sum(lists):\n",
    "    cu_list = []\n",
    "    length = len(lists)\n",
    "    cu_list = [sum(lists[0:x:1]) \n",
    "    for x in range(0, length+1)]\n",
    "    return cu_list[1:]\n",
    "        \n",
    "assert(cumulative_sum(l))\n",
    "assert(cumulative_sum(m))\n",
    "assert(cumulative_sum(n))\n",
    "assert(cumulative_sum(o))\n",
    "assert(cumulative_sum(p))"
   ]
  },
  {
   "cell_type": "code",
   "execution_count": null,
   "id": "307a7397",
   "metadata": {},
   "outputs": [],
   "source": []
  }
 ],
 "metadata": {
  "kernelspec": {
   "display_name": "Python 3 (ipykernel)",
   "language": "python",
   "name": "python3"
  },
  "language_info": {
   "codemirror_mode": {
    "name": "ipython",
    "version": 3
   },
   "file_extension": ".py",
   "mimetype": "text/x-python",
   "name": "python",
   "nbconvert_exporter": "python",
   "pygments_lexer": "ipython3",
   "version": "3.9.7"
  }
 },
 "nbformat": 4,
 "nbformat_minor": 5
}
