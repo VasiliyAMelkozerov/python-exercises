{
 "cells": [
  {
   "cell_type": "markdown",
   "id": "c5287fbd",
   "metadata": {},
   "source": [
    "## Super basic Import\n",
    "'import module_name at the top of code'\n",
    "\n",
    "'module_name.method_name() to call a method from that module'"
   ]
  },
  {
   "cell_type": "code",
   "execution_count": 1,
   "id": "39a640a5",
   "metadata": {},
   "outputs": [],
   "source": [
    "# How to import\n",
    "import math\n",
    "#method and function can be used interchangebaly"
   ]
  },
  {
   "cell_type": "code",
   "execution_count": 2,
   "id": "2cad1782",
   "metadata": {},
   "outputs": [
    {
     "data": {
      "text/plain": [
       "3.141592653589793"
      ]
     },
     "execution_count": 2,
     "metadata": {},
     "output_type": "execute_result"
    }
   ],
   "source": [
    "#we can tab through our functions to get what we want\n",
    "math.pi"
   ]
  },
  {
   "cell_type": "code",
   "execution_count": 3,
   "id": "f973d7b2",
   "metadata": {},
   "outputs": [
    {
     "data": {
      "text/plain": [
       "2.0"
      ]
     },
     "execution_count": 3,
     "metadata": {},
     "output_type": "execute_result"
    }
   ],
   "source": [
    "math.sqrt(4)"
   ]
  },
  {
   "cell_type": "markdown",
   "id": "64dedcf7",
   "metadata": {},
   "source": [
    "## importing and aliasing a module\n",
    "-importing the whole module\n",
    "-we access functionality off of the alias name"
   ]
  },
  {
   "cell_type": "code",
   "execution_count": 4,
   "id": "df375945",
   "metadata": {},
   "outputs": [],
   "source": [
    "import math as m"
   ]
  },
  {
   "cell_type": "code",
   "execution_count": 5,
   "id": "1c9e413e",
   "metadata": {},
   "outputs": [
    {
     "data": {
      "text/plain": [
       "0.8939966636005579"
      ]
     },
     "execution_count": 5,
     "metadata": {},
     "output_type": "execute_result"
    }
   ],
   "source": [
    "m.sin(90)"
   ]
  },
  {
   "cell_type": "code",
   "execution_count": 6,
   "id": "8e304094",
   "metadata": {},
   "outputs": [],
   "source": [
    "#Industry best practice\n",
    "import pandas as pd"
   ]
  },
  {
   "cell_type": "markdown",
   "id": "b330a701",
   "metadata": {},
   "source": [
    "## Import only a specific method/function from a module\n",
    "'from math import cos'"
   ]
  },
  {
   "cell_type": "code",
   "execution_count": 7,
   "id": "911e2178",
   "metadata": {},
   "outputs": [],
   "source": [
    "#this is a faster way to run the code\n",
    "from math import cos"
   ]
  },
  {
   "cell_type": "code",
   "execution_count": 8,
   "id": "6271b749",
   "metadata": {},
   "outputs": [
    {
     "data": {
      "text/plain": [
       "0.15425144988758405"
      ]
     },
     "execution_count": 8,
     "metadata": {},
     "output_type": "execute_result"
    }
   ],
   "source": [
    "cos(30)"
   ]
  },
  {
   "cell_type": "code",
   "execution_count": 9,
   "id": "1d26109e",
   "metadata": {},
   "outputs": [],
   "source": [
    "#What about multiple specific method/functions imports from a module\n",
    "from math import sin,tan"
   ]
  },
  {
   "cell_type": "code",
   "execution_count": 10,
   "id": "e7c842ad",
   "metadata": {},
   "outputs": [
    {
     "data": {
      "text/plain": [
       "-1.995200412208242"
      ]
     },
     "execution_count": 10,
     "metadata": {},
     "output_type": "execute_result"
    }
   ],
   "source": [
    "tan(90)"
   ]
  },
  {
   "cell_type": "code",
   "execution_count": 11,
   "id": "df3596b8",
   "metadata": {},
   "outputs": [
    {
     "data": {
      "text/plain": [
       "-0.404037645323065"
      ]
     },
     "execution_count": 11,
     "metadata": {},
     "output_type": "execute_result"
    }
   ],
   "source": [
    "sin(31)"
   ]
  },
  {
   "cell_type": "code",
   "execution_count": 12,
   "id": "87d6110a",
   "metadata": {},
   "outputs": [],
   "source": [
    "from math import factorial as fact"
   ]
  },
  {
   "cell_type": "code",
   "execution_count": 13,
   "id": "f61fc9f6",
   "metadata": {},
   "outputs": [
    {
     "data": {
      "text/plain": [
       "120"
      ]
     },
     "execution_count": 13,
     "metadata": {},
     "output_type": "execute_result"
    }
   ],
   "source": [
    "fact(5)"
   ]
  },
  {
   "cell_type": "code",
   "execution_count": 14,
   "id": "b9b50513",
   "metadata": {},
   "outputs": [],
   "source": [
    "# you'll also see importing specific modules from a package/library\n",
    "#  import package.module\n",
    "import matplotlib.pyplot as plt"
   ]
  },
  {
   "cell_type": "code",
   "execution_count": 15,
   "id": "11ef7283",
   "metadata": {},
   "outputs": [],
   "source": [
    "x = range(1,20)\n",
    "#y = [n ** 2 for n in x]\n"
   ]
  },
  {
   "cell_type": "markdown",
   "id": "0dcb8f4f",
   "metadata": {},
   "source": [
    "## How to import our own code modules\n",
    "\n",
    "Why should we care?:\n",
    "- You'll do this all the time.\n",
    "- Avoid showing all of your code when you wnat to show visuals + charts\n",
    "\n",
    "- Step 1: Write a .py script and save it in a folder. Name it module_name.py\n",
    "- Step 2: Create another .py or .ipynd in the  same folder\n",
    "- Step 3: In our new file, 'import module_name', no .py"
   ]
  },
  {
   "cell_type": "code",
   "execution_count": 16,
   "id": "f5bdd2b9",
   "metadata": {},
   "outputs": [],
   "source": [
    "import import_exercises as ip"
   ]
  },
  {
   "cell_type": "code",
   "execution_count": 17,
   "id": "fe104439",
   "metadata": {},
   "outputs": [
    {
     "data": {
      "text/plain": [
       "<function import_exercises.is_vowel(x)>"
      ]
     },
     "execution_count": 17,
     "metadata": {},
     "output_type": "execute_result"
    }
   ],
   "source": [
    "ip.is_vowel"
   ]
  },
  {
   "cell_type": "code",
   "execution_count": 18,
   "id": "dfe967ba",
   "metadata": {
    "scrolled": true
   },
   "outputs": [
    {
     "data": {
      "text/plain": [
       "True"
      ]
     },
     "execution_count": 18,
     "metadata": {},
     "output_type": "execute_result"
    }
   ],
   "source": [
    "ip.is_vowel(\"e\")"
   ]
  },
  {
   "cell_type": "code",
   "execution_count": 19,
   "id": "ebe6f213",
   "metadata": {},
   "outputs": [
    {
     "data": {
      "text/plain": [
       "18.0"
      ]
     },
     "execution_count": 19,
     "metadata": {},
     "output_type": "execute_result"
    }
   ],
   "source": [
    "ip.calculate_tip(45, .4)"
   ]
  },
  {
   "cell_type": "code",
   "execution_count": 20,
   "id": "b3632991",
   "metadata": {},
   "outputs": [],
   "source": [
    "from import_exercises import get_def_letter as grade"
   ]
  },
  {
   "cell_type": "code",
   "execution_count": 21,
   "id": "6fe0e322",
   "metadata": {},
   "outputs": [
    {
     "data": {
      "text/plain": [
       "'A'"
      ]
     },
     "execution_count": 21,
     "metadata": {},
     "output_type": "execute_result"
    }
   ],
   "source": [
    "grade(100)"
   ]
  },
  {
   "cell_type": "code",
   "execution_count": 22,
   "id": "d762bcee",
   "metadata": {},
   "outputs": [
    {
     "data": {
      "text/plain": [
       "'F'"
      ]
     },
     "execution_count": 22,
     "metadata": {},
     "output_type": "execute_result"
    }
   ],
   "source": [
    "grade(59)"
   ]
  },
  {
   "cell_type": "markdown",
   "id": "cbe4a5e0",
   "metadata": {},
   "source": [
    "## Number 2"
   ]
  },
  {
   "cell_type": "code",
   "execution_count": 23,
   "id": "d3f4efcf",
   "metadata": {},
   "outputs": [],
   "source": [
    "import itertools as tt"
   ]
  },
  {
   "cell_type": "code",
   "execution_count": 24,
   "id": "bf3fbea0",
   "metadata": {},
   "outputs": [
    {
     "data": {
      "text/plain": [
       "<itertools.accumulate at 0x7fefb4bb2640>"
      ]
     },
     "execution_count": 24,
     "metadata": {},
     "output_type": "execute_result"
    }
   ],
   "source": [
    "tt.accumulate([1,2,3,4,5])"
   ]
  },
  {
   "cell_type": "code",
   "execution_count": 25,
   "id": "0e97b522",
   "metadata": {},
   "outputs": [
    {
     "data": {
      "text/plain": [
       "[6, 4, 1]"
      ]
     },
     "execution_count": 25,
     "metadata": {},
     "output_type": "execute_result"
    }
   ],
   "source": [
    "list(tt.dropwhile(lambda x: x<5, [1,4,6,4,1]))"
   ]
  },
  {
   "cell_type": "code",
   "execution_count": 26,
   "id": "b1aa9e6a",
   "metadata": {},
   "outputs": [],
   "source": [
    "from itertools import product as pro"
   ]
  },
  {
   "cell_type": "code",
   "execution_count": 27,
   "id": "3feacf41",
   "metadata": {},
   "outputs": [
    {
     "data": {
      "text/plain": [
       "[('a',), ('b',), ('c',), ('1',), ('2',), ('3',)]"
      ]
     },
     "execution_count": 27,
     "metadata": {},
     "output_type": "execute_result"
    }
   ],
   "source": [
    "list(pro('abc123', repeat = 1))"
   ]
  },
  {
   "cell_type": "code",
   "execution_count": 30,
   "id": "5d31621a",
   "metadata": {},
   "outputs": [
    {
     "data": {
      "text/plain": [
       "[('a', 'a'),\n",
       " ('a', 'b'),\n",
       " ('a', 'c'),\n",
       " ('b', 'a'),\n",
       " ('b', 'b'),\n",
       " ('b', 'c'),\n",
       " ('c', 'a'),\n",
       " ('c', 'b'),\n",
       " ('c', 'c')]"
      ]
     },
     "execution_count": 30,
     "metadata": {},
     "output_type": "execute_result"
    }
   ],
   "source": [
    "list(pro('abc', repeat = 2))"
   ]
  },
  {
   "cell_type": "code",
   "execution_count": 38,
   "id": "708b934b",
   "metadata": {},
   "outputs": [
    {
     "data": {
      "text/plain": [
       "[('a', '1'),\n",
       " ('a', '2'),\n",
       " ('a', '3'),\n",
       " ('b', '1'),\n",
       " ('b', '2'),\n",
       " ('b', '3'),\n",
       " ('c', '1'),\n",
       " ('c', '2'),\n",
       " ('c', '3')]"
      ]
     },
     "execution_count": 38,
     "metadata": {},
     "output_type": "execute_result"
    }
   ],
   "source": [
    "list(pro('abc','123'))"
   ]
  },
  {
   "cell_type": "code",
   "execution_count": 41,
   "id": "cc965353",
   "metadata": {},
   "outputs": [],
   "source": [
    "from itertools import combinations as combo"
   ]
  },
  {
   "cell_type": "code",
   "execution_count": 42,
   "id": "41dbf5be",
   "metadata": {},
   "outputs": [
    {
     "data": {
      "text/plain": [
       "[('a', 'b'), ('a', 'c'), ('a', 'd'), ('b', 'c'), ('b', 'd'), ('c', 'd')]"
      ]
     },
     "execution_count": 42,
     "metadata": {},
     "output_type": "execute_result"
    }
   ],
   "source": [
    "list(combo('abcd',2))"
   ]
  },
  {
   "cell_type": "code",
   "execution_count": 33,
   "id": "19632e45",
   "metadata": {},
   "outputs": [],
   "source": [
    "from itertools import permutations as per"
   ]
  },
  {
   "cell_type": "code",
   "execution_count": 37,
   "id": "8dcaf8af",
   "metadata": {},
   "outputs": [
    {
     "data": {
      "text/plain": [
       "[('a', 'b'),\n",
       " ('a', 'c'),\n",
       " ('a', 'd'),\n",
       " ('b', 'a'),\n",
       " ('b', 'c'),\n",
       " ('b', 'd'),\n",
       " ('c', 'a'),\n",
       " ('c', 'b'),\n",
       " ('c', 'd'),\n",
       " ('d', 'a'),\n",
       " ('d', 'b'),\n",
       " ('d', 'c')]"
      ]
     },
     "execution_count": 37,
     "metadata": {},
     "output_type": "execute_result"
    }
   ],
   "source": [
    "list(per('abcd', 2))"
   ]
  },
  {
   "cell_type": "code",
   "execution_count": null,
   "id": "16fa4ca3",
   "metadata": {},
   "outputs": [],
   "source": []
  }
 ],
 "metadata": {
  "kernelspec": {
   "display_name": "Python 3 (ipykernel)",
   "language": "python",
   "name": "python3"
  },
  "language_info": {
   "codemirror_mode": {
    "name": "ipython",
    "version": 3
   },
   "file_extension": ".py",
   "mimetype": "text/x-python",
   "name": "python",
   "nbconvert_exporter": "python",
   "pygments_lexer": "ipython3",
   "version": "3.9.7"
  }
 },
 "nbformat": 4,
 "nbformat_minor": 5
}
