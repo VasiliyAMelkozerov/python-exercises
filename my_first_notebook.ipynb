{
 "cells": [
  {
   "cell_type": "markdown",
   "id": "04fa7732",
   "metadata": {},
   "source": [
    "# beebeep boopbap"
   ]
  },
  {
   "cell_type": "code",
   "execution_count": 1,
   "id": "e5e0b03f",
   "metadata": {},
   "outputs": [
    {
     "name": "stdout",
     "output_type": "stream",
     "text": [
      "Jimmy eats shoes\n"
     ]
    }
   ],
   "source": [
    "print(\"Jimmy eats shoes\")"
   ]
  },
  {
   "cell_type": "code",
   "execution_count": null,
   "id": "1af0497b",
   "metadata": {},
   "outputs": [],
   "source": [
    "#command s saves the current file\n",
    "#option click toggles multiple lines\n",
    "#F5 to run code shift F5 to stop it"
   ]
  }
 ],
 "metadata": {
  "kernelspec": {
   "display_name": "Python 3 (ipykernel)",
   "language": "python",
   "name": "python3"
  },
  "language_info": {
   "codemirror_mode": {
    "name": "ipython",
    "version": 3
   },
   "file_extension": ".py",
   "mimetype": "text/x-python",
   "name": "python",
   "nbconvert_exporter": "python",
   "pygments_lexer": "ipython3",
   "version": "3.9.7"
  }
 },
 "nbformat": 4,
 "nbformat_minor": 5
}
