{
 "cells": [
  {
   "cell_type": "markdown",
   "id": "04fa7732",
   "metadata": {},
   "source": [
    "# beebeep boopbap"
   ]
  },
  {
   "cell_type": "markdown",
   "id": "8d404114",
   "metadata": {},
   "source": [
    "i need this needs to be edited easier"
   ]
  },
  {
   "cell_type": "code",
   "execution_count": 1,
   "id": "e5e0b03f",
   "metadata": {},
   "outputs": [
    {
     "name": "stdout",
     "output_type": "stream",
     "text": [
      "Jimmy eats shoes\n"
     ]
    }
   ],
   "source": [
    "print(\"Jimmy eats shoes\")"
   ]
  },
  {
   "cell_type": "markdown",
   "id": "6c48352d",
   "metadata": {},
   "source": [
    "#command s saves the current file\n",
    "#option click toggles multiple lines\n",
    "#F5 to run code shift F5 to stop it"
   ]
  },
  {
   "cell_type": "code",
   "execution_count": null,
   "id": "381818ca",
   "metadata": {},
   "outputs": [],
   "source": [
    "v = 5 is variable assignment"
   ]
  },
  {
   "cell_type": "markdown",
   "id": "67339b6a",
   "metadata": {},
   "source": [
    "we can transform variables \n",
    "v + 5 "
   ]
  },
  {
   "cell_type": "code",
   "execution_count": null,
   "id": "76ace521",
   "metadata": {},
   "outputs": [],
   "source": [
    "operators are our verbs\n",
    "operators are +-=/"
   ]
  },
  {
   "cell_type": "code",
   "execution_count": 3,
   "id": "68454711",
   "metadata": {},
   "outputs": [],
   "source": [
    "favorite_number = 2"
   ]
  },
  {
   "cell_type": "code",
   "execution_count": 4,
   "id": "38112e1b",
   "metadata": {},
   "outputs": [
    {
     "data": {
      "text/plain": [
       "False"
      ]
     },
     "execution_count": 4,
     "metadata": {},
     "output_type": "execute_result"
    }
   ],
   "source": [
    "#!= means ain't\n",
    "favorite_number > 2"
   ]
  },
  {
   "cell_type": "code",
   "execution_count": 5,
   "id": "c2e9b6a9",
   "metadata": {},
   "outputs": [
    {
     "data": {
      "text/plain": [
       "True"
      ]
     },
     "execution_count": 5,
     "metadata": {},
     "output_type": "execute_result"
    }
   ],
   "source": [
    "2 in [1,2,3,4]\n",
    "#this is a collection"
   ]
  },
  {
   "cell_type": "code",
   "execution_count": 6,
   "id": "bcd833f8",
   "metadata": {},
   "outputs": [
    {
     "data": {
      "text/plain": [
       "False"
      ]
     },
     "execution_count": 6,
     "metadata": {},
     "output_type": "execute_result"
    }
   ],
   "source": [
    "3 in [1,2,4,5,6,7]"
   ]
  },
  {
   "cell_type": "code",
   "execution_count": 7,
   "id": "b10ef669",
   "metadata": {},
   "outputs": [
    {
     "data": {
      "text/plain": [
       "True"
      ]
     },
     "execution_count": 7,
     "metadata": {},
     "output_type": "execute_result"
    }
   ],
   "source": [
    "'a' in 'banana'"
   ]
  },
  {
   "cell_type": "code",
   "execution_count": 8,
   "id": "fc262b37",
   "metadata": {},
   "outputs": [
    {
     "data": {
      "text/plain": [
       "True"
      ]
     },
     "execution_count": 8,
     "metadata": {},
     "output_type": "execute_result"
    }
   ],
   "source": [
    "not False"
   ]
  },
  {
   "cell_type": "code",
   "execution_count": 10,
   "id": "4c341367",
   "metadata": {},
   "outputs": [
    {
     "data": {
      "text/plain": [
       "False"
      ]
     },
     "execution_count": 10,
     "metadata": {},
     "output_type": "execute_result"
    }
   ],
   "source": [
    "not not False"
   ]
  },
  {
   "cell_type": "code",
   "execution_count": 13,
   "id": "dc6fbe2a",
   "metadata": {},
   "outputs": [
    {
     "data": {
      "text/plain": [
       "True"
      ]
     },
     "execution_count": 13,
     "metadata": {},
     "output_type": "execute_result"
    }
   ],
   "source": [
    "not not not False"
   ]
  },
  {
   "cell_type": "code",
   "execution_count": 15,
   "id": "6111507a",
   "metadata": {},
   "outputs": [
    {
     "data": {
      "text/plain": [
       "<bound method NDFrame.head of      total_bill   tip     sex smoker   day    time  size\n",
       "1         16.99  1.01  Female     No   Sun  Dinner     2\n",
       "2         10.34  1.66    Male     No   Sun  Dinner     3\n",
       "3         21.01  3.50    Male     No   Sun  Dinner     3\n",
       "4         23.68  3.31    Male     No   Sun  Dinner     2\n",
       "5         24.59  3.61  Female     No   Sun  Dinner     4\n",
       "..          ...   ...     ...    ...   ...     ...   ...\n",
       "240       29.03  5.92    Male     No   Sat  Dinner     3\n",
       "241       27.18  2.00  Female    Yes   Sat  Dinner     2\n",
       "242       22.67  2.00    Male    Yes   Sat  Dinner     2\n",
       "243       17.82  1.75    Male     No   Sat  Dinner     2\n",
       "244       18.78  3.00  Female     No  Thur  Dinner     2\n",
       "\n",
       "[244 rows x 7 columns]>"
      ]
     },
     "execution_count": 15,
     "metadata": {},
     "output_type": "execute_result"
    }
   ],
   "source": [
    "from pydataset import data\n",
    "df = data('tips')\n",
    "df.head"
   ]
  },
  {
   "cell_type": "code",
   "execution_count": 18,
   "id": "22cd4112",
   "metadata": {},
   "outputs": [
    {
     "data": {
      "text/plain": [
       "'batman'"
      ]
     },
     "execution_count": 18,
     "metadata": {},
     "output_type": "execute_result"
    }
   ],
   "source": [
    "name = 'batman'\n",
    "name"
   ]
  },
  {
   "cell_type": "code",
   "execution_count": 20,
   "id": "bf605926",
   "metadata": {},
   "outputs": [
    {
     "name": "stdout",
     "output_type": "stream",
     "text": [
      "bob\n"
     ]
    },
    {
     "data": {
      "text/plain": [
       "NoneType"
      ]
     },
     "execution_count": 20,
     "metadata": {},
     "output_type": "execute_result"
    }
   ],
   "source": [
    "x = print('bob')\n",
    "type(x)"
   ]
  },
  {
   "cell_type": "code",
   "execution_count": 21,
   "id": "2eeeb6ff",
   "metadata": {},
   "outputs": [
    {
     "ename": "SyntaxError",
     "evalue": "invalid syntax (1943863270.py, line 2)",
     "output_type": "error",
     "traceback": [
      "\u001b[0;36m  File \u001b[0;32m\"/var/folders/cs/9mn89l_n6p3c9sq01q5f54kh0000gn/T/ipykernel_19867/1943863270.py\"\u001b[0;36m, line \u001b[0;32m2\u001b[0m\n\u001b[0;31m    -not: switches the boolean value of a value\u001b[0m\n\u001b[0m     ^\u001b[0m\n\u001b[0;31mSyntaxError\u001b[0m\u001b[0;31m:\u001b[0m invalid syntax\n"
     ]
    }
   ],
   "source": [
    "## logical operators\n",
    "-not: switches the boolean value of a value\n",
    "-and: making sure both peices are true\n",
    "-or: making sure at least one perice is true"
   ]
  },
  {
   "cell_type": "code",
   "execution_count": 23,
   "id": "f2913bbe",
   "metadata": {},
   "outputs": [],
   "source": [
    "doing_python_right_now = True\n",
    "currently_on_mars = False"
   ]
  },
  {
   "cell_type": "code",
   "execution_count": 25,
   "id": "6f329594",
   "metadata": {},
   "outputs": [
    {
     "data": {
      "text/plain": [
       "False"
      ]
     },
     "execution_count": 25,
     "metadata": {},
     "output_type": "execute_result"
    }
   ],
   "source": [
    "doing_python_right_now and currently_on_mars"
   ]
  },
  {
   "cell_type": "code",
   "execution_count": 27,
   "id": "045e65aa",
   "metadata": {},
   "outputs": [
    {
     "data": {
      "text/plain": [
       "True"
      ]
     },
     "execution_count": 27,
     "metadata": {},
     "output_type": "execute_result"
    }
   ],
   "source": [
    "doing_python_right_now or currently_on_mars"
   ]
  },
  {
   "cell_type": "code",
   "execution_count": 28,
   "id": "3f151391",
   "metadata": {},
   "outputs": [],
   "source": [
    "# when we combine and or not , (but == and not)\n",
    "#we want to use paraentheses to enfore execute order"
   ]
  },
  {
   "cell_type": "code",
   "execution_count": 31,
   "id": "b8bb2f76",
   "metadata": {},
   "outputs": [
    {
     "data": {
      "text/plain": [
       "False"
      ]
     },
     "execution_count": 31,
     "metadata": {},
     "output_type": "execute_result"
    }
   ],
   "source": [
    "is_logged_in = False\n",
    "is_admin = False\n",
    "is_author = True\n",
    "\n",
    "can_edit_post = is_logged_in and (is_admin or is_author)\n",
    "can_edit_post"
   ]
  },
  {
   "cell_type": "code",
   "execution_count": 32,
   "id": "f9ae865f",
   "metadata": {},
   "outputs": [],
   "source": [
    "#mathematical operators\n",
    "# +,-,*,/,**"
   ]
  },
  {
   "cell_type": "code",
   "execution_count": 41,
   "id": "89891084",
   "metadata": {},
   "outputs": [
    {
     "data": {
      "text/plain": [
       "8"
      ]
     },
     "execution_count": 41,
     "metadata": {},
     "output_type": "execute_result"
    }
   ],
   "source": [
    "2 ** 3 #two raised to the power of 3"
   ]
  },
  {
   "cell_type": "code",
   "execution_count": 36,
   "id": "7d936e9a",
   "metadata": {},
   "outputs": [
    {
     "data": {
      "text/plain": [
       "4.0"
      ]
     },
     "execution_count": 36,
     "metadata": {},
     "output_type": "execute_result"
    }
   ],
   "source": [
    "12 / 3"
   ]
  },
  {
   "cell_type": "code",
   "execution_count": 38,
   "id": "1637b458",
   "metadata": {},
   "outputs": [
    {
     "data": {
      "text/plain": [
       "True"
      ]
     },
     "execution_count": 38,
     "metadata": {},
     "output_type": "execute_result"
    }
   ],
   "source": [
    "4 ==  4.0"
   ]
  },
  {
   "cell_type": "code",
   "execution_count": 40,
   "id": "901004db",
   "metadata": {},
   "outputs": [
    {
     "data": {
      "text/plain": [
       "True"
      ]
     },
     "execution_count": 40,
     "metadata": {},
     "output_type": "execute_result"
    }
   ],
   "source": [
    "4 ==  4.00000000000000000000000000000000000000001"
   ]
  },
  {
   "cell_type": "code",
   "execution_count": 43,
   "id": "55c14807",
   "metadata": {},
   "outputs": [
    {
     "data": {
      "text/plain": [
       "1"
      ]
     },
     "execution_count": 43,
     "metadata": {},
     "output_type": "execute_result"
    }
   ],
   "source": [
    "#modulo operator\n",
    "# 5 % 2 read as five divided by 2 leaves what value\n",
    "5 % 2"
   ]
  },
  {
   "cell_type": "code",
   "execution_count": 45,
   "id": "cd28864d",
   "metadata": {},
   "outputs": [
    {
     "data": {
      "text/plain": [
       "True"
      ]
     },
     "execution_count": 45,
     "metadata": {},
     "output_type": "execute_result"
    }
   ],
   "source": [
    "#is evenly divisble\n",
    "4 % 2 ==  0"
   ]
  },
  {
   "cell_type": "code",
   "execution_count": 47,
   "id": "cff7daf4",
   "metadata": {},
   "outputs": [
    {
     "data": {
      "text/plain": [
       "1.5"
      ]
     },
     "execution_count": 47,
     "metadata": {},
     "output_type": "execute_result"
    }
   ],
   "source": [
    "3/2"
   ]
  },
  {
   "cell_type": "code",
   "execution_count": 49,
   "id": "91984624",
   "metadata": {},
   "outputs": [
    {
     "data": {
      "text/plain": [
       "1"
      ]
     },
     "execution_count": 49,
     "metadata": {},
     "output_type": "execute_result"
    }
   ],
   "source": [
    "3 // 2"
   ]
  },
  {
   "cell_type": "code",
   "execution_count": 51,
   "id": "60685025",
   "metadata": {},
   "outputs": [
    {
     "data": {
      "text/plain": [
       "2"
      ]
     },
     "execution_count": 51,
     "metadata": {},
     "output_type": "execute_result"
    }
   ],
   "source": [
    "3 & 2"
   ]
  },
  {
   "cell_type": "markdown",
   "id": "8fd0ed7b",
   "metadata": {},
   "source": [
    "3*5"
   ]
  },
  {
   "cell_type": "code",
   "execution_count": 54,
   "id": "627bde4a",
   "metadata": {},
   "outputs": [
    {
     "data": {
      "text/plain": [
       "15.5"
      ]
     },
     "execution_count": 54,
     "metadata": {},
     "output_type": "execute_result"
    }
   ],
   "source": [
    "3.1 * 5"
   ]
  },
  {
   "cell_type": "markdown",
   "id": "55eed55c",
   "metadata": {},
   "source": [
    "## strings\n",
    "- letterss or  numbers contained in double or single quotes\n",
    "- if we start a string with double quotes, we need to end w/ double\n",
    "- if we  start w/ single quotes, we end with single quotes\n",
    "- if we need a string that contains characters including "
   ]
  },
  {
   "cell_type": "code",
   "execution_count": 57,
   "id": "3d28f15d",
   "metadata": {},
   "outputs": [
    {
     "data": {
      "text/plain": [
       "'you been stick bugged'"
      ]
     },
     "execution_count": 57,
     "metadata": {},
     "output_type": "execute_result"
    }
   ],
   "source": [
    "message = 'you been stick bugged'\n",
    "message"
   ]
  },
  {
   "cell_type": "code",
   "execution_count": 58,
   "id": "2971f440",
   "metadata": {},
   "outputs": [],
   "source": [
    "#use case for triple quotes as a docstring\n",
    "def is_even(n):\n",
    "    \"\"\"returns a boolean if the input is an even number\"\"\"\n",
    "    return n % 2 == 0"
   ]
  },
  {
   "cell_type": "code",
   "execution_count": 60,
   "id": "a4e47962",
   "metadata": {},
   "outputs": [],
   "source": [
    "is_even?\n",
    "len?"
   ]
  }
 ],
 "metadata": {
  "kernelspec": {
   "display_name": "Python 3 (ipykernel)",
   "language": "python",
   "name": "python3"
  },
  "language_info": {
   "codemirror_mode": {
    "name": "ipython",
    "version": 3
   },
   "file_extension": ".py",
   "mimetype": "text/x-python",
   "name": "python",
   "nbconvert_exporter": "python",
   "pygments_lexer": "ipython3",
   "version": "3.9.7"
  }
 },
 "nbformat": 4,
 "nbformat_minor": 5
}
