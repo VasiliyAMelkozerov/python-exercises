{
 "cells": [
  {
   "cell_type": "markdown",
   "id": "04fa7732",
   "metadata": {},
   "source": [
    "# beebeep boopbap"
   ]
  },
  {
   "cell_type": "markdown",
   "id": "1348f884",
   "metadata": {},
   "source": [
    "i need this needs to be edited easier"
   ]
  },
  {
   "cell_type": "code",
   "execution_count": 1,
   "id": "e5e0b03f",
   "metadata": {},
   "outputs": [
    {
     "name": "stdout",
     "output_type": "stream",
     "text": [
      "Jimmy eats shoes\n"
     ]
    }
   ],
   "source": [
    "print(\"Jimmy eats shoes\")"
   ]
  },
  {
   "cell_type": "markdown",
   "id": "72f1dda2",
   "metadata": {},
   "source": [
    "#command s saves the current file\n",
    "#option click toggles multiple lines\n",
    "#F5 to run code shift F5 to stop it"
   ]
  },
  {
   "cell_type": "code",
   "execution_count": null,
   "id": "0244946c",
   "metadata": {},
   "outputs": [],
   "source": [
    "v = 5 is variable assignment"
   ]
  },
  {
   "cell_type": "markdown",
   "id": "6cfefc00",
   "metadata": {},
   "source": [
    "we can transform variables \n",
    "v + 5 "
   ]
  },
  {
   "cell_type": "code",
   "execution_count": null,
   "id": "269ded47",
   "metadata": {},
   "outputs": [],
   "source": [
    "operators are our verbs\n",
    "operators are +-=/"
   ]
  },
  {
   "cell_type": "code",
   "execution_count": 3,
   "id": "3b37d739",
   "metadata": {},
   "outputs": [],
   "source": [
    "favorite_number = 2"
   ]
  },
  {
   "cell_type": "code",
   "execution_count": 4,
   "id": "8ca36a83",
   "metadata": {},
   "outputs": [
    {
     "data": {
      "text/plain": [
       "False"
      ]
     },
     "execution_count": 4,
     "metadata": {},
     "output_type": "execute_result"
    }
   ],
   "source": [
    "#!= means ain't\n",
    "favorite_number > 2"
   ]
  },
  {
   "cell_type": "code",
   "execution_count": 5,
   "id": "6bdddd31",
   "metadata": {},
   "outputs": [
    {
     "data": {
      "text/plain": [
       "True"
      ]
     },
     "execution_count": 5,
     "metadata": {},
     "output_type": "execute_result"
    }
   ],
   "source": [
    "2 in [1,2,3,4]\n",
    "#this is a collection"
   ]
  },
  {
   "cell_type": "code",
   "execution_count": 6,
   "id": "d9750834",
   "metadata": {},
   "outputs": [
    {
     "data": {
      "text/plain": [
       "False"
      ]
     },
     "execution_count": 6,
     "metadata": {},
     "output_type": "execute_result"
    }
   ],
   "source": [
    "3 in [1,2,4,5,6,7]"
   ]
  },
  {
   "cell_type": "code",
   "execution_count": 7,
   "id": "655680c9",
   "metadata": {},
   "outputs": [
    {
     "data": {
      "text/plain": [
       "True"
      ]
     },
     "execution_count": 7,
     "metadata": {},
     "output_type": "execute_result"
    }
   ],
   "source": [
    "'a' in 'banana'"
   ]
  },
  {
   "cell_type": "code",
   "execution_count": 8,
   "id": "2f9a74af",
   "metadata": {},
   "outputs": [
    {
     "data": {
      "text/plain": [
       "True"
      ]
     },
     "execution_count": 8,
     "metadata": {},
     "output_type": "execute_result"
    }
   ],
   "source": [
    "not False"
   ]
  },
  {
   "cell_type": "code",
   "execution_count": 10,
   "id": "0879da8c",
   "metadata": {},
   "outputs": [
    {
     "data": {
      "text/plain": [
       "False"
      ]
     },
     "execution_count": 10,
     "metadata": {},
     "output_type": "execute_result"
    }
   ],
   "source": [
    "not not False"
   ]
  },
  {
   "cell_type": "code",
   "execution_count": 13,
   "id": "866f8126",
   "metadata": {},
   "outputs": [
    {
     "data": {
      "text/plain": [
       "True"
      ]
     },
     "execution_count": 13,
     "metadata": {},
     "output_type": "execute_result"
    }
   ],
   "source": [
    "not not not False"
   ]
  },
  {
   "cell_type": "code",
   "execution_count": 15,
   "id": "20229c23",
   "metadata": {},
   "outputs": [
    {
     "data": {
      "text/plain": [
       "<bound method NDFrame.head of      total_bill   tip     sex smoker   day    time  size\n",
       "1         16.99  1.01  Female     No   Sun  Dinner     2\n",
       "2         10.34  1.66    Male     No   Sun  Dinner     3\n",
       "3         21.01  3.50    Male     No   Sun  Dinner     3\n",
       "4         23.68  3.31    Male     No   Sun  Dinner     2\n",
       "5         24.59  3.61  Female     No   Sun  Dinner     4\n",
       "..          ...   ...     ...    ...   ...     ...   ...\n",
       "240       29.03  5.92    Male     No   Sat  Dinner     3\n",
       "241       27.18  2.00  Female    Yes   Sat  Dinner     2\n",
       "242       22.67  2.00    Male    Yes   Sat  Dinner     2\n",
       "243       17.82  1.75    Male     No   Sat  Dinner     2\n",
       "244       18.78  3.00  Female     No  Thur  Dinner     2\n",
       "\n",
       "[244 rows x 7 columns]>"
      ]
     },
     "execution_count": 15,
     "metadata": {},
     "output_type": "execute_result"
    }
   ],
   "source": [
    "from pydataset import data\n",
    "df = data('tips')\n",
    "df.head"
   ]
  },
  {
   "cell_type": "code",
   "execution_count": 18,
   "id": "3d77fb75",
   "metadata": {},
   "outputs": [
    {
     "data": {
      "text/plain": [
       "'batman'"
      ]
     },
     "execution_count": 18,
     "metadata": {},
     "output_type": "execute_result"
    }
   ],
   "source": [
    "name = 'batman'\n",
    "name"
   ]
  },
  {
   "cell_type": "code",
   "execution_count": null,
   "id": "ef5483d1",
   "metadata": {},
   "outputs": [],
   "source": []
  }
 ],
 "metadata": {
  "kernelspec": {
   "display_name": "Python 3 (ipykernel)",
   "language": "python",
   "name": "python3"
  },
  "language_info": {
   "codemirror_mode": {
    "name": "ipython",
    "version": 3
   },
   "file_extension": ".py",
   "mimetype": "text/x-python",
   "name": "python",
   "nbconvert_exporter": "python",
   "pygments_lexer": "ipython3",
   "version": "3.9.7"
  }
 },
 "nbformat": 4,
 "nbformat_minor": 5
}
