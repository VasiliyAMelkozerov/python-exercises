{
 "cells": [
  {
   "cell_type": "code",
   "execution_count": 4,
   "id": "53da0fb5",
   "metadata": {},
   "outputs": [],
   "source": [
    "students = [\n",
    "    {\n",
    "        \"id\": \"100001\",\n",
    "        \"student\": \"Ada Lovelace\",\n",
    "        \"coffee_preference\": \"light\",\n",
    "        \"course\": \"web development\",\n",
    "        \"grades\": [70, 91, 82, 71],\n",
    "        \"pets\": [{\"species\": \"horse\", \"age\": 8}],\n",
    "    },\n",
    "    {\n",
    "        \"id\": \"100002\",\n",
    "        \"student\": \"Thomas Bayes\",\n",
    "        \"coffee_preference\": \"medium\",\n",
    "        \"course\": \"data science\",\n",
    "        \"grades\": [75, 73, 86, 100],\n",
    "        \"pets\": [],\n",
    "    },\n",
    "    {\n",
    "        \"id\": \"100003\",\n",
    "        \"student\": \"Marie Curie\",\n",
    "        \"coffee_preference\": \"light\",\n",
    "        \"course\": \"web development\",\n",
    "        \"grades\": [70, 89, 69, 65],\n",
    "        \"pets\": [{\"species\": \"cat\", \"age\": 0}],\n",
    "    },\n",
    "    {\n",
    "        \"id\": \"100004\",\n",
    "        \"student\": \"Grace Hopper\",\n",
    "        \"coffee_preference\": \"dark\",\n",
    "        \"course\": \"data science\",\n",
    "        \"grades\": [73, 66, 83, 92],\n",
    "        \"pets\": [{\"species\": \"dog\", \"age\": 4}, {\"species\": \"cat\", \"age\": 4}],\n",
    "    },\n",
    "    {\n",
    "        \"id\": \"100005\",\n",
    "        \"student\": \"Alan Turing\",\n",
    "        \"coffee_preference\": \"dark\",\n",
    "        \"course\": \"web development\",\n",
    "        \"grades\": [78, 98, 85, 65],\n",
    "        \"pets\": [\n",
    "            {\"species\": \"horse\", \"age\": 6},\n",
    "            {\"species\": \"horse\", \"age\": 7},\n",
    "            {\"species\": \"dog\", \"age\": 5},\n",
    "        ],\n",
    "    },\n",
    "    {\n",
    "        \"id\": \"100006\",\n",
    "        \"student\": \"Rosalind Franklin\",\n",
    "        \"coffee_preference\": \"dark\",\n",
    "        \"course\": \"data science\",\n",
    "        \"grades\": [76, 70, 96, 81],\n",
    "        \"pets\": [],\n",
    "    },\n",
    "    {\n",
    "        \"id\": \"100007\",\n",
    "        \"student\": \"Elizabeth Blackwell\",\n",
    "        \"coffee_preference\": \"dark\",\n",
    "        \"course\": \"web development\",\n",
    "        \"grades\": [69, 94, 89, 86],\n",
    "        \"pets\": [{\"species\": \"cat\", \"age\": 10}],\n",
    "    },\n",
    "    {\n",
    "        \"id\": \"100008\",\n",
    "        \"student\": \"Rene Descartes\",\n",
    "        \"coffee_preference\": \"medium\",\n",
    "        \"course\": \"data science\",\n",
    "        \"grades\": [87, 79, 90, 99],\n",
    "        \"pets\": [{\"species\": \"cat\", \"age\": 10}, {\"species\": \"cat\", \"age\": 8}],\n",
    "    },\n",
    "    {\n",
    "        \"id\": \"100009\",\n",
    "        \"student\": \"Ahmed Zewail\",\n",
    "        \"coffee_preference\": \"medium\",\n",
    "        \"course\": \"data science\",\n",
    "        \"grades\": [74, 99, 93, 89],\n",
    "        \"pets\": [{\"species\": \"cat\", \"age\": 0}, {\"species\": \"cat\", \"age\": 0}],\n",
    "    },\n",
    "    {\n",
    "        \"id\": \"100010\",\n",
    "        \"student\": \"Chien-Shiung Wu\",\n",
    "        \"coffee_preference\": \"medium\",\n",
    "        \"course\": \"web development\",\n",
    "        \"grades\": [82, 92, 91, 65],\n",
    "        \"pets\": [{\"species\": \"cat\", \"age\": 8}],\n",
    "    },\n",
    "    {\n",
    "        \"id\": \"100011\",\n",
    "        \"student\": \"William Sanford Nye\",\n",
    "        \"coffee_preference\": \"dark\",\n",
    "        \"course\": \"data science\",\n",
    "        \"grades\": [70, 92, 65, 99],\n",
    "        \"pets\": [{\"species\": \"cat\", \"age\": 8}, {\"species\": \"cat\", \"age\": 5}],\n",
    "    },\n",
    "    {\n",
    "        \"id\": \"100012\",\n",
    "        \"student\": \"Carl Sagan\",\n",
    "        \"coffee_preference\": \"medium\",\n",
    "        \"course\": \"data science\",\n",
    "        \"grades\": [100, 86, 91, 87],\n",
    "        \"pets\": [{\"species\": \"cat\", \"age\": 10}],\n",
    "    },\n",
    "    {\n",
    "        \"id\": \"100013\",\n",
    "        \"student\": \"Jane Goodall\",\n",
    "        \"coffee_preference\": \"light\",\n",
    "        \"course\": \"web development\",\n",
    "        \"grades\": [80, 70, 68, 98],\n",
    "        \"pets\": [{\"species\": \"horse\", \"age\": 4}],\n",
    "    },\n",
    "    {\n",
    "        \"id\": \"100014\",\n",
    "        \"student\": \"Richard Feynman\",\n",
    "        \"coffee_preference\": \"medium\",\n",
    "        \"course\": \"web development\",\n",
    "        \"grades\": [73, 99, 86, 98],\n",
    "        \"pets\": [{\"species\": \"dog\", \"age\": 6}],\n",
    "    },\n",
    "]"
   ]
  },
  {
   "cell_type": "markdown",
   "id": "b4fc8593",
   "metadata": {},
   "source": [
    "1.How many students are there?"
   ]
  },
  {
   "cell_type": "code",
   "execution_count": 5,
   "id": "a1c9938e",
   "metadata": {},
   "outputs": [
    {
     "data": {
      "text/plain": [
       "{'id': '100001',\n",
       " 'student': 'Ada Lovelace',\n",
       " 'coffee_preference': 'light',\n",
       " 'course': 'web development',\n",
       " 'grades': [70, 91, 82, 71],\n",
       " 'pets': [{'species': 'horse', 'age': 8}]}"
      ]
     },
     "execution_count": 5,
     "metadata": {},
     "output_type": "execute_result"
    }
   ],
   "source": [
    "student = students[0]\n",
    "student"
   ]
  },
  {
   "cell_type": "code",
   "execution_count": 6,
   "id": "fc0f6fee",
   "metadata": {},
   "outputs": [
    {
     "name": "stdout",
     "output_type": "stream",
     "text": [
      "We have 14 students in total\n"
     ]
    }
   ],
   "source": [
    "number = len(students)\n",
    "print(f\"We have {number} students in total\")"
   ]
  },
  {
   "cell_type": "markdown",
   "id": "35d5a6ec",
   "metadata": {},
   "source": [
    "How many students prefer light coffee? For each type of coffee roast?"
   ]
  },
  {
   "cell_type": "code",
   "execution_count": 7,
   "id": "e79fbd93",
   "metadata": {},
   "outputs": [
    {
     "data": {
      "text/plain": [
       "'light'"
      ]
     },
     "execution_count": 7,
     "metadata": {},
     "output_type": "execute_result"
    }
   ],
   "source": [
    "student['coffee_preference']"
   ]
  },
  {
   "cell_type": "code",
   "execution_count": 8,
   "id": "2c0d66b3",
   "metadata": {},
   "outputs": [
    {
     "name": "stdout",
     "output_type": "stream",
     "text": [
      "3 is how many like light coffee. 6 for medium. 5 for dark\n"
     ]
    }
   ],
   "source": [
    "light_cof = 0\n",
    "med_cof = 0\n",
    "dark_cof = 0\n",
    "\n",
    "for student in students:\n",
    "    preference = student[\"coffee_preference\"]\n",
    "    if preference == \"light\":\n",
    "        light_cof+=1\n",
    "    if preference == \"medium\":\n",
    "        med_cof+=1\n",
    "    if preference == \"dark\":\n",
    "        dark_cof +=1\n",
    "    \n",
    "light_cof\n",
    "med_cof\n",
    "dark_cof\n",
    "print(f\"{light_cof} is how many like light coffee. {med_cof} for medium. {dark_cof} for dark\")"
   ]
  },
  {
   "cell_type": "markdown",
   "id": "0928fb41",
   "metadata": {},
   "source": [
    "How many types of each pet are there?"
   ]
  },
  {
   "cell_type": "code",
   "execution_count": 25,
   "id": "880ba2cd",
   "metadata": {},
   "outputs": [
    {
     "data": {
      "text/plain": [
       "[]"
      ]
     },
     "execution_count": 25,
     "metadata": {},
     "output_type": "execute_result"
    }
   ],
   "source": [
    "#if we don't know where to start, make a variable\n",
    "pets = [] \n",
    "\n",
    "#for student in students:\n",
    "student=students[1]\n",
    "for pet in student['pets']:\n",
    "    pets.append(pet[\"species\"])\n",
    "    \n",
    "pets"
   ]
  },
  {
   "cell_type": "code",
   "execution_count": 26,
   "id": "accd95ef",
   "metadata": {},
   "outputs": [
    {
     "data": {
      "text/plain": [
       "['horse',\n",
       " 'cat',\n",
       " 'dog',\n",
       " 'cat',\n",
       " 'horse',\n",
       " 'horse',\n",
       " 'dog',\n",
       " 'cat',\n",
       " 'cat',\n",
       " 'cat',\n",
       " 'cat',\n",
       " 'cat',\n",
       " 'cat',\n",
       " 'cat',\n",
       " 'cat',\n",
       " 'cat',\n",
       " 'horse',\n",
       " 'dog']"
      ]
     },
     "execution_count": 26,
     "metadata": {},
     "output_type": "execute_result"
    }
   ],
   "source": [
    "for student in students:\n",
    "#student=students[1]\n",
    "    for pet in student['pets']:\n",
    "        pets.append(pet[\"species\"])\n",
    "    \n",
    "pets"
   ]
  },
  {
   "cell_type": "code",
   "execution_count": 33,
   "id": "4e482d7b",
   "metadata": {},
   "outputs": [
    {
     "data": {
      "text/plain": [
       "{'horse': 4, 'cat': 11, 'dog': 3}"
      ]
     },
     "execution_count": 33,
     "metadata": {},
     "output_type": "execute_result"
    }
   ],
   "source": [
    "pet_typ_count = {}\n",
    "#how do you even think like this?\n",
    "for pet in pets:\n",
    "    #what\n",
    "    if pet in pet_typ_count.keys():\n",
    "        #in the\n",
    "        pet_typ_count[pet] += 1\n",
    "        #absolute\n",
    "    else:\n",
    "        #wizardry\n",
    "        pet_typ_count[pet] = 1\n",
    "    #is this\n",
    "pet_typ_count"
   ]
  },
  {
   "cell_type": "markdown",
   "id": "477a9dd0",
   "metadata": {},
   "source": [
    "How many grades does each student have? Do they all have the same number of grades?"
   ]
  },
  {
   "cell_type": "code",
   "execution_count": null,
   "id": "1512a215",
   "metadata": {},
   "outputs": [],
   "source": []
  }
 ],
 "metadata": {
  "kernelspec": {
   "display_name": "Python 3 (ipykernel)",
   "language": "python",
   "name": "python3"
  },
  "language_info": {
   "codemirror_mode": {
    "name": "ipython",
    "version": 3
   },
   "file_extension": ".py",
   "mimetype": "text/x-python",
   "name": "python",
   "nbconvert_exporter": "python",
   "pygments_lexer": "ipython3",
   "version": "3.9.7"
  }
 },
 "nbformat": 4,
 "nbformat_minor": 5
}
